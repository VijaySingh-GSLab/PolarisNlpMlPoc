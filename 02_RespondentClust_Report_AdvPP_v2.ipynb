{
 "cells": [
  {
   "cell_type": "code",
   "execution_count": 1,
   "metadata": {},
   "outputs": [],
   "source": [
    "%load_ext autoreload\n",
    "%autoreload 2\n",
    "%matplotlib inline"
   ]
  },
  {
   "cell_type": "code",
   "execution_count": 2,
   "metadata": {},
   "outputs": [],
   "source": [
    "import warnings\n",
    "warnings.filterwarnings('ignore')"
   ]
  },
  {
   "cell_type": "code",
   "execution_count": 3,
   "metadata": {},
   "outputs": [
    {
     "data": {
      "text/html": [
       "        <script type=\"text/javascript\">\n",
       "        window.PlotlyConfig = {MathJaxConfig: 'local'};\n",
       "        if (window.MathJax) {MathJax.Hub.Config({SVG: {font: \"STIX-Web\"}});}\n",
       "        if (typeof require !== 'undefined') {\n",
       "        require.undef(\"plotly\");\n",
       "        requirejs.config({\n",
       "            paths: {\n",
       "                'plotly': ['https://cdn.plot.ly/plotly-latest.min']\n",
       "            }\n",
       "        });\n",
       "        require(['plotly'], function(Plotly) {\n",
       "            window._Plotly = Plotly;\n",
       "        });\n",
       "        }\n",
       "        </script>\n",
       "        "
      ]
     },
     "metadata": {},
     "output_type": "display_data"
    }
   ],
   "source": [
    "from respondentCluster_utils import *"
   ]
  },
  {
   "cell_type": "code",
   "execution_count": 4,
   "metadata": {},
   "outputs": [],
   "source": [
    "PROJECT_NAME   = '01_RespondentClust\\\\'\n",
    "GENERIC_PATH   = 'C:\\\\Users\\\\GS-1931\\\\Desktop\\\\GIT_DESKTOP\\\\1_nlpClus\\\\'\n",
    "KEY_PATH       =  GENERIC_PATH + '06_key_files\\\\'\n",
    "DATA_FROM_PATH =  GENERIC_PATH + '\\02_data_files\\\\' + PROJECT_NAME\n",
    "DATA_TO_PATH   =  GENERIC_PATH + '02_data_files\\\\' + PROJECT_NAME\n",
    "IMAGE_PATH     =  GENERIC_PATH + '03_image_files\\\\' + PROJECT_NAME\n",
    "offset_path    = 'set_01\\\\'"
   ]
  },
  {
   "cell_type": "code",
   "execution_count": 5,
   "metadata": {},
   "outputs": [],
   "source": [
    "icolList_meta = [col_ts, col_user]\n",
    "\n",
    "meta_print = True\n",
    "verbose    = True\n",
    "\n",
    "make_plot = True\n",
    "show_plot = True\n",
    "save_plot = False\n",
    "save_html = False\n",
    "\n",
    "col_pk  = col_user\n",
    "col_nlp = iCOLUMN_NLP"
   ]
  },
  {
   "cell_type": "code",
   "execution_count": 6,
   "metadata": {},
   "outputs": [
    {
     "name": "stdout",
     "output_type": "stream",
     "text": [
      "(105, 16)\n"
     ]
    }
   ],
   "source": [
    "file_name = 'X_Sales_Enablement_Survey_v1.xlsx'\n",
    "PATH = DATA_TO_PATH + file_name\n",
    "X = pd.read_excel(io=PATH, sheet_name='State of Sales Enablement Surve')\n",
    "\n",
    "X_raw = merge_ques_main( data=X )\n",
    "#X[col_all_fques][0]\n",
    "\n",
    "if(meta_print):\n",
    "    print(X_raw.shape)\n",
    "#X_raw.head(2)"
   ]
  },
  {
   "cell_type": "code",
   "execution_count": 7,
   "metadata": {},
   "outputs": [
    {
     "name": "stdout",
     "output_type": "stream",
     "text": [
      "__________________________________________________ get_ff_question_info __________________________________________________\n",
      "num total ques        : 14\n",
      "num freeform ques     : 8\n",
      "num freeform_fmt ques : 8\n",
      "len dict_ques_mapper  : 8\n"
     ]
    }
   ],
   "source": [
    "# get ff ques data\n",
    "nTop_ques = 8\n",
    "ilist_questions, ilist_freeformQues, ilist_freeformQues_fmt = get_ff_question_info( data=X_raw,  nTop_ques=nTop_ques, \n",
    "                                                                                    dict_ques_mapper=idict_ques_mapper, verbose=verbose)\n"
   ]
  },
  {
   "cell_type": "code",
   "execution_count": 8,
   "metadata": {},
   "outputs": [],
   "source": [
    "# initialize mappers\n",
    "idict_topic_model_result = {}\n",
    "\n",
    "idict_NC_mapper = {\n",
    "    iques_1 : 3,\n",
    "    iques_3 : -1,\n",
    "    iques_4 : -1,\n",
    "    iques_5 : -1\n",
    "}\n",
    "\n",
    "idict_SW_mapper = get_sw_mapper()   \n",
    "\n",
    "idict_bigram_common_terms_mapper = get_bigram_common_terms_mapper()\n",
    "\n",
    "idict_topic_name_mapper = get_topic_name_mapper()\n",
    "\n",
    "idict_topN_kw_arr_mapper = get_dict_topN_kw_arr_mapper()\n",
    "\n",
    "idict_hyperparam_mapper = get_topic_name_mapper()"
   ]
  },
  {
   "cell_type": "code",
   "execution_count": 9,
   "metadata": {},
   "outputs": [],
   "source": [
    "#bigram_common_terms\n",
    "#'ques3' in all_sw_ls\n",
    "#'ques1' in all_sw_ls\n",
    "#from respondentCluster_utils import *"
   ]
  },
  {
   "cell_type": "code",
   "execution_count": null,
   "metadata": {},
   "outputs": [],
   "source": []
  },
  {
   "cell_type": "code",
   "execution_count": 10,
   "metadata": {},
   "outputs": [],
   "source": [
    "#custom_sw = MANNUAL_STOP_WORDS + idict_SW_mapper[col_main]\n",
    "#all_sw_ls = nlp_filter_stopwords( only_return_sw=True, use_nltk=True, use_spacy=True, custom_sw=custom_sw, X=None, col_nlp=None )\n",
    "#len(all_sw_ls)"
   ]
  },
  {
   "cell_type": "markdown",
   "metadata": {},
   "source": [
    "# Modelling"
   ]
  },
  {
   "cell_type": "code",
   "execution_count": 11,
   "metadata": {},
   "outputs": [
    {
     "name": "stderr",
     "output_type": "stream",
     "text": [
      "C:\\Users\\GS-1931\\AppData\\Local\\Continuum\\anaconda3\\envs\\nlp_course\\lib\\site-packages\\msgpack_numpy.py:184: DeprecationWarning:\n",
      "\n",
      "encoding is deprecated, Use raw=False instead.\n",
      "\n",
      "C:\\Users\\GS-1931\\AppData\\Local\\Continuum\\anaconda3\\envs\\nlp_course\\lib\\site-packages\\msgpack_numpy.py:184: DeprecationWarning:\n",
      "\n",
      "encoding is deprecated, Use raw=False instead.\n",
      "\n"
     ]
    },
    {
     "name": "stdout",
     "output_type": "stream",
     "text": [
      "num docs        : 104\n",
      "num unique kw   : 682\n",
      "num bi-grams kw : 9\n",
      "\n",
      "Bigarms: \n",
      "['increase_sale', 'sale_organization', 'client_experience', 'past_year', 'new_hire', 'coming_year', 'sale_team', 'sale_leader', 'customer_experience']\n"
     ]
    },
    {
     "name": "stderr",
     "output_type": "stream",
     "text": [
      "C:\\Users\\GS-1931\\AppData\\Local\\Continuum\\anaconda3\\envs\\nlp_course\\lib\\site-packages\\msgpack_numpy.py:184: DeprecationWarning:\n",
      "\n",
      "encoding is deprecated, Use raw=False instead.\n",
      "\n",
      "C:\\Users\\GS-1931\\AppData\\Local\\Continuum\\anaconda3\\envs\\nlp_course\\lib\\site-packages\\msgpack_numpy.py:184: DeprecationWarning:\n",
      "\n",
      "encoding is deprecated, Use raw=False instead.\n",
      "\n"
     ]
    }
   ],
   "source": [
    "#idict_hyperparam_mapper[iques_1] = {'bigrm_min_count': 3, 'num_topic': 3, 'topN_kw': 20, 'result': 'kw=482, bigram=4, score=0.49'}\n",
    "#idict_hyperparam_mapper[iques_2] = {'bigrm_min_count': 3, 'num_topic': 3, 'topN_kw': 20, 'result': 'kw=482, bigram=4, score=0.49'}\n",
    "\n",
    "#idict_hyperparam_mapper[iques_3] = {'bigrm_min_count': 4, 'num_topic': 3, 'topN_kw': 16, 'result': 'kw=220, bigram=5, score=0.58'}\n",
    "#idict_hyperparam_mapper[iques_4] = {'bigrm_min_count': 2, 'num_topic': 5, 'topN_kw': 18, 'result': 'kw=323, bigram=8,  score=0.55'}\n",
    "#idict_hyperparam_mapper[iques_5] = {'bigrm_min_count': 12, 'num_topic': 5, 'topN_kw': 18, 'result': 'kw=387, bigram=0,  score=0.47'}\n",
    "#idict_hyperparam_mapper[iques_6] = {'bigrm_min_count': 4, 'num_topic': 4, 'topN_kw': 20, 'result': 'kw=475, bigram=2,  score=0.42'}\n",
    "#idict_hyperparam_mapper[iques_6] = {'bigrm_min_count': 4, 'num_topic': 4, 'topN_kw': 20, 'result': 'kw=475, bigram=2,  score=0.42'}\n",
    "#idict_hyperparam_mapper[iques_7] = {'bigrm_min_count': 2, 'num_topic': 3, 'topN_kw': 12, 'result': 'kw=222, bigram=0,  score=0.45'}\n",
    "#idict_hyperparam_mapper[iques_8] = \"insufficient data, 16 docs, 106 kw(5 tfidf kw)\"\n",
    "\n",
    "col_main = iques_2\n",
    "\n",
    "\n",
    "X_pp = generate_pp_data( data=X_raw, col_main=col_main, col_pk=col_pk, dict_ques_mapper=idict_ques_mapper )\n",
    "\n",
    "\n",
    "bigram_common_terms = idict_bigram_common_terms_mapper[col_main] + ['-PRON-']\n",
    "X_ml, all_sw_ls = generate_token_data_advance( data=X_pp, col_main=col_main, col_nlp=iCOLUMN_NLP, idict_SW_mapper=idict_SW_mapper, \n",
    "                                               punc_re=None, deacc=True, \n",
    "                                               use_nltk=True, use_spacy=True, enable_tag_filter=True, allowed_postags=iALLOWED_POSTAGS,\n",
    "                                               bigram_common_terms=bigram_common_terms, bigrm_min_count=3, bigrm_threshold=0.1 )\n",
    "\n",
    "#custom_sw = ['sale', 'sale_sale']\n",
    "#X_ml, all_sw_ls = nlp_filter_stopwords( X=X_ml, col_nlp=col_nlp, use_nltk=True, use_spacy=True, custom_sw=custom_sw, only_return_sw=False )\n",
    "\n",
    "#print(X.shape)\n",
    "#X.head(2)\n",
    "\n",
    "print_token_info( data=X_ml, col_nlp=col_nlp, num_bigram_print=-1 )"
   ]
  },
  {
   "cell_type": "code",
   "execution_count": null,
   "metadata": {},
   "outputs": [],
   "source": []
  },
  {
   "cell_type": "code",
   "execution_count": 12,
   "metadata": {},
   "outputs": [
    {
     "name": "stdout",
     "output_type": "stream",
     "text": [
      "__________________________________________________ print_tfidf_info __________________________________________________\n",
      "shape of tfidf_matrix    : (104, 242)\n",
      "num text in tfidf_matrix : 242\n"
     ]
    },
    {
     "data": {
      "image/png": "[encoded data removed]",
      "text/plain": [
       "<Figure size 1152x720 with 1 Axes>"
      ]
     },
     "metadata": {},
     "output_type": "display_data"
    }
   ],
   "source": [
    "wc_obj_tfidf_vectorizer, wc_tfidf_matrix = get_tfidf_data_adv( data=X_ml, col_nlp=col_nlp, max_df=0.95, min_df=2, stop_words_tfidf=None )\n",
    "print_tfidf_info(tfidf_matrix=wc_tfidf_matrix, obj_tfidf_vectorizer=wc_obj_tfidf_vectorizer, verbose=True)\n",
    "\n",
    "if(make_plot):\n",
    "    pass\n",
    "\n",
    "make_word_cloud( obj_vectorizer=wc_obj_tfidf_vectorizer, data_tfidf=wc_tfidf_matrix, col_main=col_main,\n",
    "                     only_neg_sent=False, X_sent=None, figsize=(16, 10),\n",
    "                     offset_path=offset_path, im_path=IMAGE_PATH, save_plot=save_plot, show_plot=show_plot )"
   ]
  },
  {
   "cell_type": "code",
   "execution_count": 13,
   "metadata": {},
   "outputs": [],
   "source": [
    "#X_ml.head(2)"
   ]
  },
  {
   "cell_type": "code",
   "execution_count": null,
   "metadata": {},
   "outputs": [],
   "source": []
  },
  {
   "cell_type": "code",
   "execution_count": null,
   "metadata": {},
   "outputs": [],
   "source": []
  },
  {
   "cell_type": "code",
   "execution_count": 14,
   "metadata": {},
   "outputs": [
    {
     "name": "stdout",
     "output_type": "stream",
     "text": [
      "__________________________________________________ gensim_vectorizer __________________________________________________\n",
      "num docs in corpus       : 104\n",
      "length of id2word_dict   : 242\n",
      "1st item of corpus       : [[(0, 1), (1, 1), (2, 1), (3, 1), (4, 1), (5, 1), (6, 1), (7, 1), (8, 1), (9, 1), (10, 1), (11, 1), (12, 1), (13, 1), (14, 1), (15, 1), (16, 2), (17, 1), (18, 1), (19, 1), (20, 1), (21, 1), (22, 1)]]\n",
      "1st item of corpus, text : [[('bring', 1), ('capability', 1), ('clear', 1), ('competition', 1), ('continue', 1), ('delivery', 1), ('development', 1), ('differentiate', 1), ('effort', 1), ('enable', 1), ('grow', 1), ('improve', 1), ('improvement', 1), ('increase', 1), ('key', 1), ('kpis', 1), ('market', 2), ('past_year', 1), ('sale', 1), ('share', 1), ('success', 1), ('understanding', 1), ('value', 1)]]\n"
     ]
    }
   ],
   "source": [
    "docs, docs_token = X_ml[col_main].values.tolist(), X_ml[col_nlp].values.tolist()\n",
    "id2word_dict, corpus = gensim_vectorizer( docs_token=docs_token, verbose=verbose )"
   ]
  },
  {
   "cell_type": "code",
   "execution_count": null,
   "metadata": {},
   "outputs": [],
   "source": []
  },
  {
   "cell_type": "code",
   "execution_count": 15,
   "metadata": {},
   "outputs": [
    {
     "name": "stdout",
     "output_type": "stream",
     "text": [
      "_____________________________________________ find_best_genism_lda_model _____________________________________________\n",
      "ind: 0, num_topic:2, topN_kw; 20\n",
      "ind: 1, num_topic:3, topN_kw; 20\n",
      "ind: 2, num_topic:4, topN_kw; 20\n",
      "ind: 3, num_topic:5, topN_kw; 18\n",
      "ind: 4, num_topic:6, topN_kw; 18\n",
      "ind: 5, num_topic:7, topN_kw; 18\n",
      "ind: 6, num_topic:8, topN_kw; 16\n",
      "ind: 7, num_topic:9, topN_kw; 16\n",
      "ind: 8, num_topic:10, topN_kw; 16\n",
      "best score             : 0.43\n",
      "optimum num of cluster : 4\n"
     ]
    },
    {
     "data": {
      "image/png": "[encoded data removed]",
      "text/plain": [
       "<Figure size 864x504 with 1 Axes>"
      ]
     },
     "metadata": {},
     "output_type": "display_data"
    },
    {
     "name": "stdout",
     "output_type": "stream",
     "text": [
      "_____________________________________________ Modelling completed _____________________________________________\n",
      "num topics      : 4\n",
      "coherence score : 0.43 (topN_kw=12)\n"
     ]
    }
   ],
   "source": [
    "modelling_type = 'multiple' # single, multiple, load_exisitng\n",
    "#modelling_type = 'single' # single, multiple, load_exisitng\n",
    "\n",
    "verbose_temp   = True\n",
    "\n",
    "topN_kw        = 12\n",
    "\n",
    "num_topics = 3\n",
    "\n",
    "MIN_TOPICS = 2\n",
    "MAX_TOPICS = 6\n",
    "STEP       = 1\n",
    "\n",
    "topN_kw_arr = {2: 20, 3: 20, 4: 20, 5: 18, 6:18, 7: 18, 8:16, 9:16, 10:16}\n",
    "#topN_kw_arr = None\n",
    "\n",
    "#id2word_dict, docs_token, corpus\n",
    "optimal_model, optimum_num_cluster, max_c_score = model_training_wrapper( num_topics=num_topics, modelling_type=modelling_type, \n",
    "                                                                          id2word_dict=id2word_dict, corpus=corpus, texts=docs_token, \n",
    "                                                                          start=MIN_TOPICS, limit=MAX_TOPICS, step=STEP, chunksize=20, passes=20, \n",
    "                                                                          topN_kw=topN_kw, topN_kw_arr=topN_kw_arr, verbose=verbose, \n",
    "                                                                          offset_path=offset_path, im_path=IMAGE_PATH, save_plot=save_plot, \n",
    "                                                                          show_plot=show_plot )\n",
    "if topN_kw_arr is not None:\n",
    "    topN_kw = topN_kw_arr[optimum_num_cluster]"
   ]
  },
  {
   "cell_type": "code",
   "execution_count": 26,
   "metadata": {},
   "outputs": [
    {
     "data": {
      "text/plain": [
       "20"
      ]
     },
     "execution_count": 26,
     "metadata": {},
     "output_type": "execute_result"
    }
   ],
   "source": [
    "topN_kw"
   ]
  },
  {
   "cell_type": "code",
   "execution_count": null,
   "metadata": {},
   "outputs": [],
   "source": []
  },
  {
   "cell_type": "code",
   "execution_count": null,
   "metadata": {},
   "outputs": [],
   "source": []
  },
  {
   "cell_type": "code",
   "execution_count": 27,
   "metadata": {},
   "outputs": [
    {
     "data": {
      "text/html": [
       "        <script type=\"text/javascript\">\n",
       "        window.PlotlyConfig = {MathJaxConfig: 'local'};\n",
       "        if (window.MathJax) {MathJax.Hub.Config({SVG: {font: \"STIX-Web\"}});}\n",
       "        if (typeof require !== 'undefined') {\n",
       "        require.undef(\"plotly\");\n",
       "        requirejs.config({\n",
       "            paths: {\n",
       "                'plotly': ['https://cdn.plot.ly/plotly-latest.min']\n",
       "            }\n",
       "        });\n",
       "        require(['plotly'], function(Plotly) {\n",
       "            window._Plotly = Plotly;\n",
       "        });\n",
       "        }\n",
       "        </script>\n",
       "        "
      ]
     },
     "metadata": {},
     "output_type": "display_data"
    },
    {
     "name": "stderr",
     "output_type": "stream",
     "text": [
      "C:\\Users\\GS-1931\\AppData\\Local\\Continuum\\anaconda3\\envs\\nlp_course\\lib\\site-packages\\msgpack_numpy.py:184: DeprecationWarning:\n",
      "\n",
      "encoding is deprecated, Use raw=False instead.\n",
      "\n",
      "C:\\Users\\GS-1931\\AppData\\Local\\Continuum\\anaconda3\\envs\\nlp_course\\lib\\site-packages\\msgpack_numpy.py:184: DeprecationWarning:\n",
      "\n",
      "encoding is deprecated, Use raw=False instead.\n",
      "\n",
      "C:\\Users\\GS-1931\\AppData\\Local\\Continuum\\anaconda3\\envs\\nlp_course\\lib\\site-packages\\msgpack_numpy.py:184: DeprecationWarning:\n",
      "\n",
      "encoding is deprecated, Use raw=False instead.\n",
      "\n",
      "C:\\Users\\GS-1931\\AppData\\Local\\Continuum\\anaconda3\\envs\\nlp_course\\lib\\site-packages\\msgpack_numpy.py:184: DeprecationWarning:\n",
      "\n",
      "encoding is deprecated, Use raw=False instead.\n",
      "\n",
      "C:\\Users\\GS-1931\\AppData\\Local\\Continuum\\anaconda3\\envs\\nlp_course\\lib\\site-packages\\msgpack_numpy.py:184: DeprecationWarning:\n",
      "\n",
      "encoding is deprecated, Use raw=False instead.\n",
      "\n",
      "C:\\Users\\GS-1931\\AppData\\Local\\Continuum\\anaconda3\\envs\\nlp_course\\lib\\site-packages\\msgpack_numpy.py:184: DeprecationWarning:\n",
      "\n",
      "encoding is deprecated, Use raw=False instead.\n",
      "\n",
      "C:\\Users\\GS-1931\\AppData\\Local\\Continuum\\anaconda3\\envs\\nlp_course\\lib\\site-packages\\msgpack_numpy.py:184: DeprecationWarning:\n",
      "\n",
      "encoding is deprecated, Use raw=False instead.\n",
      "\n",
      "C:\\Users\\GS-1931\\AppData\\Local\\Continuum\\anaconda3\\envs\\nlp_course\\lib\\site-packages\\msgpack_numpy.py:184: DeprecationWarning:\n",
      "\n",
      "encoding is deprecated, Use raw=False instead.\n",
      "\n"
     ]
    },
    {
     "name": "stdout",
     "output_type": "stream",
     "text": [
      "__________________________________________________ format_topics_sentences __________________________________________________\n",
      "df_dominant_topic shape : (104, 7)\n"
     ]
    }
   ],
   "source": [
    "# topic assigment\n",
    "use_topic_name    = False\n",
    "\n",
    "#dict_topic_mapper = None\n",
    "dict_topic_mapper = idict_topic_name_mapper[col_main]\n",
    "\n",
    "df_dominant_topic = format_topics_sentences(ldamodel=optimal_model, corpus=corpus, texts=docs, data_ml=X_ml, dict_topic_mapper=dict_topic_mapper, \n",
    "                                            topN_kw=topN_kw, verbose=verbose)\n",
    "idict_topic_model_result[col_main] = df_dominant_topic\n",
    "#df_dominant_topic.tail(2)"
   ]
  },
  {
   "cell_type": "code",
   "execution_count": 28,
   "metadata": {},
   "outputs": [],
   "source": [
    "#from respondentCluster_utils import *"
   ]
  },
  {
   "cell_type": "markdown",
   "metadata": {},
   "source": [
    "### General Info"
   ]
  },
  {
   "cell_type": "markdown",
   "metadata": {},
   "source": [
    "**Topic prevalence**\n",
    "* fraction of users under each topic"
   ]
  },
  {
   "cell_type": "code",
   "execution_count": 29,
   "metadata": {},
   "outputs": [
    {
     "name": "stdout",
     "output_type": "stream",
     "text": [
      "print some stats\n"
     ]
    },
    {
     "data": {
      "application/vnd.plotly.v1+json": {
       "config": {
        "plotlyServerURL": "https://plot.ly"
       },
       "data": [
        {
         "alignmentgroup": "True",
         "hovertemplate": "x=%{x}<br>y=%{y}<extra></extra>",
         "legendgroup": "",
         "marker": {
          "color": "#636efa"
         },
         "name": "",
         "offsetgroup": "",
         "orientation": "v",
         "showlegend": false,
         "textposition": "auto",
         "type": "bar",
         "x": [
          "3",
          "2",
          "1",
          "0"
         ],
         "xaxis": "x",
         "y": [
          0.54,
          0.26,
          0.15,
          0.05
         ],
         "yaxis": "y"
        }
       ],
       "layout": {
        "barmode": "relative",
        "height": 450,
        "legend": {
         "tracegroupgap": 0
        },
        "margin": {
         "t": 60
        },
        "template": {
         "data": {
          "bar": [
           {
            "error_x": {
             "color": "#2a3f5f"
            },
            "error_y": {
             "color": "#2a3f5f"
            },
            "marker": {
             "line": {
              "color": "#E5ECF6",
              "width": 0.5
             }
            },
            "type": "bar"
           }
          ],
          "barpolar": [
           {
            "marker": {
             "line": {
              "color": "#E5ECF6",
              "width": 0.5
             }
            },
            "type": "barpolar"
           }
          ],
          "carpet": [
           {
            "aaxis": {
             "endlinecolor": "#2a3f5f",
             "gridcolor": "white",
             "linecolor": "white",
             "minorgridcolor": "white",
             "startlinecolor": "#2a3f5f"
            },
            "baxis": {
             "endlinecolor": "#2a3f5f",
             "gridcolor": "white",
             "linecolor": "white",
             "minorgridcolor": "white",
             "startlinecolor": "#2a3f5f"
            },
            "type": "carpet"
           }
          ],
          "choropleth": [
           {
            "colorbar": {
             "outlinewidth": 0,
             "ticks": ""
            },
            "type": "choropleth"
           }
          ],
          "contour": [
           {
            "colorbar": {
             "outlinewidth": 0,
             "ticks": ""
            },
            "colorscale": [
             [
              0,
              "#0d0887"
             ],
             [
              0.1111111111111111,
              "#46039f"
             ],
             [
              0.2222222222222222,
              "#7201a8"
             ],
             [
              0.3333333333333333,
              "#9c179e"
             ],
             [
              0.4444444444444444,
              "#bd3786"
             ],
             [
              0.5555555555555556,
              "#d8576b"
             ],
             [
              0.6666666666666666,
              "#ed7953"
             ],
             [
              0.7777777777777778,
              "#fb9f3a"
             ],
             [
              0.8888888888888888,
              "#fdca26"
             ],
             [
              1,
              "#f0f921"
             ]
            ],
            "type": "contour"
           }
          ],
          "contourcarpet": [
           {
            "colorbar": {
             "outlinewidth": 0,
             "ticks": ""
            },
            "type": "contourcarpet"
           }
          ],
          "heatmap": [
           {
            "colorbar": {
             "outlinewidth": 0,
             "ticks": ""
            },
            "colorscale": [
             [
              0,
              "#0d0887"
             ],
             [
              0.1111111111111111,
              "#46039f"
             ],
             [
              0.2222222222222222,
              "#7201a8"
             ],
             [
              0.3333333333333333,
              "#9c179e"
             ],
             [
              0.4444444444444444,
              "#bd3786"
             ],
             [
              0.5555555555555556,
              "#d8576b"
             ],
             [
              0.6666666666666666,
              "#ed7953"
             ],
             [
              0.7777777777777778,
              "#fb9f3a"
             ],
             [
              0.8888888888888888,
              "#fdca26"
             ],
             [
              1,
              "#f0f921"
             ]
            ],
            "type": "heatmap"
           }
          ],
          "heatmapgl": [
           {
            "colorbar": {
             "outlinewidth": 0,
             "ticks": ""
            },
            "colorscale": [
             [
              0,
              "#0d0887"
             ],
             [
              0.1111111111111111,
              "#46039f"
             ],
             [
              0.2222222222222222,
              "#7201a8"
             ],
             [
              0.3333333333333333,
              "#9c179e"
             ],
             [
              0.4444444444444444,
              "#bd3786"
             ],
             [
              0.5555555555555556,
              "#d8576b"
             ],
             [
              0.6666666666666666,
              "#ed7953"
             ],
             [
              0.7777777777777778,
              "#fb9f3a"
             ],
             [
              0.8888888888888888,
              "#fdca26"
             ],
             [
              1,
              "#f0f921"
             ]
            ],
            "type": "heatmapgl"
           }
          ],
          "histogram": [
           {
            "marker": {
             "colorbar": {
              "outlinewidth": 0,
              "ticks": ""
             }
            },
            "type": "histogram"
           }
          ],
          "histogram2d": [
           {
            "colorbar": {
             "outlinewidth": 0,
             "ticks": ""
            },
            "colorscale": [
             [
              0,
              "#0d0887"
             ],
             [
              0.1111111111111111,
              "#46039f"
             ],
             [
              0.2222222222222222,
              "#7201a8"
             ],
             [
              0.3333333333333333,
              "#9c179e"
             ],
             [
              0.4444444444444444,
              "#bd3786"
             ],
             [
              0.5555555555555556,
              "#d8576b"
             ],
             [
              0.6666666666666666,
              "#ed7953"
             ],
             [
              0.7777777777777778,
              "#fb9f3a"
             ],
             [
              0.8888888888888888,
              "#fdca26"
             ],
             [
              1,
              "#f0f921"
             ]
            ],
            "type": "histogram2d"
           }
          ],
          "histogram2dcontour": [
           {
            "colorbar": {
             "outlinewidth": 0,
             "ticks": ""
            },
            "colorscale": [
             [
              0,
              "#0d0887"
             ],
             [
              0.1111111111111111,
              "#46039f"
             ],
             [
              0.2222222222222222,
              "#7201a8"
             ],
             [
              0.3333333333333333,
              "#9c179e"
             ],
             [
              0.4444444444444444,
              "#bd3786"
             ],
             [
              0.5555555555555556,
              "#d8576b"
             ],
             [
              0.6666666666666666,
              "#ed7953"
             ],
             [
              0.7777777777777778,
              "#fb9f3a"
             ],
             [
              0.8888888888888888,
              "#fdca26"
             ],
             [
              1,
              "#f0f921"
             ]
            ],
            "type": "histogram2dcontour"
           }
          ],
          "mesh3d": [
           {
            "colorbar": {
             "outlinewidth": 0,
             "ticks": ""
            },
            "type": "mesh3d"
           }
          ],
          "parcoords": [
           {
            "line": {
             "colorbar": {
              "outlinewidth": 0,
              "ticks": ""
             }
            },
            "type": "parcoords"
           }
          ],
          "pie": [
           {
            "automargin": true,
            "type": "pie"
           }
          ],
          "scatter": [
           {
            "marker": {
             "colorbar": {
              "outlinewidth": 0,
              "ticks": ""
             }
            },
            "type": "scatter"
           }
          ],
          "scatter3d": [
           {
            "line": {
             "colorbar": {
              "outlinewidth": 0,
              "ticks": ""
             }
            },
            "marker": {
             "colorbar": {
              "outlinewidth": 0,
              "ticks": ""
             }
            },
            "type": "scatter3d"
           }
          ],
          "scattercarpet": [
           {
            "marker": {
             "colorbar": {
              "outlinewidth": 0,
              "ticks": ""
             }
            },
            "type": "scattercarpet"
           }
          ],
          "scattergeo": [
           {
            "marker": {
             "colorbar": {
              "outlinewidth": 0,
              "ticks": ""
             }
            },
            "type": "scattergeo"
           }
          ],
          "scattergl": [
           {
            "marker": {
             "colorbar": {
              "outlinewidth": 0,
              "ticks": ""
             }
            },
            "type": "scattergl"
           }
          ],
          "scattermapbox": [
           {
            "marker": {
             "colorbar": {
              "outlinewidth": 0,
              "ticks": ""
             }
            },
            "type": "scattermapbox"
           }
          ],
          "scatterpolar": [
           {
            "marker": {
             "colorbar": {
              "outlinewidth": 0,
              "ticks": ""
             }
            },
            "type": "scatterpolar"
           }
          ],
          "scatterpolargl": [
           {
            "marker": {
             "colorbar": {
              "outlinewidth": 0,
              "ticks": ""
             }
            },
            "type": "scatterpolargl"
           }
          ],
          "scatterternary": [
           {
            "marker": {
             "colorbar": {
              "outlinewidth": 0,
              "ticks": ""
             }
            },
            "type": "scatterternary"
           }
          ],
          "surface": [
           {
            "colorbar": {
             "outlinewidth": 0,
             "ticks": ""
            },
            "colorscale": [
             [
              0,
              "#0d0887"
             ],
             [
              0.1111111111111111,
              "#46039f"
             ],
             [
              0.2222222222222222,
              "#7201a8"
             ],
             [
              0.3333333333333333,
              "#9c179e"
             ],
             [
              0.4444444444444444,
              "#bd3786"
             ],
             [
              0.5555555555555556,
              "#d8576b"
             ],
             [
              0.6666666666666666,
              "#ed7953"
             ],
             [
              0.7777777777777778,
              "#fb9f3a"
             ],
             [
              0.8888888888888888,
              "#fdca26"
             ],
             [
              1,
              "#f0f921"
             ]
            ],
            "type": "surface"
           }
          ],
          "table": [
           {
            "cells": {
             "fill": {
              "color": "#EBF0F8"
             },
             "line": {
              "color": "white"
             }
            },
            "header": {
             "fill": {
              "color": "#C8D4E3"
             },
             "line": {
              "color": "white"
             }
            },
            "type": "table"
           }
          ]
         },
         "layout": {
          "annotationdefaults": {
           "arrowcolor": "#2a3f5f",
           "arrowhead": 0,
           "arrowwidth": 1
          },
          "coloraxis": {
           "colorbar": {
            "outlinewidth": 0,
            "ticks": ""
           }
          },
          "colorscale": {
           "diverging": [
            [
             0,
             "#8e0152"
            ],
            [
             0.1,
             "#c51b7d"
            ],
            [
             0.2,
             "#de77ae"
            ],
            [
             0.3,
             "#f1b6da"
            ],
            [
             0.4,
             "#fde0ef"
            ],
            [
             0.5,
             "#f7f7f7"
            ],
            [
             0.6,
             "#e6f5d0"
            ],
            [
             0.7,
             "#b8e186"
            ],
            [
             0.8,
             "#7fbc41"
            ],
            [
             0.9,
             "#4d9221"
            ],
            [
             1,
             "#276419"
            ]
           ],
           "sequential": [
            [
             0,
             "#0d0887"
            ],
            [
             0.1111111111111111,
             "#46039f"
            ],
            [
             0.2222222222222222,
             "#7201a8"
            ],
            [
             0.3333333333333333,
             "#9c179e"
            ],
            [
             0.4444444444444444,
             "#bd3786"
            ],
            [
             0.5555555555555556,
             "#d8576b"
            ],
            [
             0.6666666666666666,
             "#ed7953"
            ],
            [
             0.7777777777777778,
             "#fb9f3a"
            ],
            [
             0.8888888888888888,
             "#fdca26"
            ],
            [
             1,
             "#f0f921"
            ]
           ],
           "sequentialminus": [
            [
             0,
             "#0d0887"
            ],
            [
             0.1111111111111111,
             "#46039f"
            ],
            [
             0.2222222222222222,
             "#7201a8"
            ],
            [
             0.3333333333333333,
             "#9c179e"
            ],
            [
             0.4444444444444444,
             "#bd3786"
            ],
            [
             0.5555555555555556,
             "#d8576b"
            ],
            [
             0.6666666666666666,
             "#ed7953"
            ],
            [
             0.7777777777777778,
             "#fb9f3a"
            ],
            [
             0.8888888888888888,
             "#fdca26"
            ],
            [
             1,
             "#f0f921"
            ]
           ]
          },
          "colorway": [
           "#636efa",
           "#EF553B",
           "#00cc96",
           "#ab63fa",
           "#FFA15A",
           "#19d3f3",
           "#FF6692",
           "#B6E880",
           "#FF97FF",
           "#FECB52"
          ],
          "font": {
           "color": "#2a3f5f"
          },
          "geo": {
           "bgcolor": "white",
           "lakecolor": "white",
           "landcolor": "#E5ECF6",
           "showlakes": true,
           "showland": true,
           "subunitcolor": "white"
          },
          "hoverlabel": {
           "align": "left"
          },
          "hovermode": "closest",
          "mapbox": {
           "style": "light"
          },
          "paper_bgcolor": "white",
          "plot_bgcolor": "#E5ECF6",
          "polar": {
           "angularaxis": {
            "gridcolor": "white",
            "linecolor": "white",
            "ticks": ""
           },
           "bgcolor": "#E5ECF6",
           "radialaxis": {
            "gridcolor": "white",
            "linecolor": "white",
            "ticks": ""
           }
          },
          "scene": {
           "xaxis": {
            "backgroundcolor": "#E5ECF6",
            "gridcolor": "white",
            "gridwidth": 2,
            "linecolor": "white",
            "showbackground": true,
            "ticks": "",
            "zerolinecolor": "white"
           },
           "yaxis": {
            "backgroundcolor": "#E5ECF6",
            "gridcolor": "white",
            "gridwidth": 2,
            "linecolor": "white",
            "showbackground": true,
            "ticks": "",
            "zerolinecolor": "white"
           },
           "zaxis": {
            "backgroundcolor": "#E5ECF6",
            "gridcolor": "white",
            "gridwidth": 2,
            "linecolor": "white",
            "showbackground": true,
            "ticks": "",
            "zerolinecolor": "white"
           }
          },
          "shapedefaults": {
           "line": {
            "color": "#2a3f5f"
           }
          },
          "ternary": {
           "aaxis": {
            "gridcolor": "white",
            "linecolor": "white",
            "ticks": ""
           },
           "baxis": {
            "gridcolor": "white",
            "linecolor": "white",
            "ticks": ""
           },
           "bgcolor": "#E5ECF6",
           "caxis": {
            "gridcolor": "white",
            "linecolor": "white",
            "ticks": ""
           }
          },
          "title": {
           "x": 0.05
          },
          "xaxis": {
           "automargin": true,
           "gridcolor": "white",
           "linecolor": "white",
           "ticks": "",
           "title": {
            "standoff": 15
           },
           "zerolinecolor": "white",
           "zerolinewidth": 2
          },
          "yaxis": {
           "automargin": true,
           "gridcolor": "white",
           "linecolor": "white",
           "ticks": "",
           "title": {
            "standoff": 15
           },
           "zerolinecolor": "white",
           "zerolinewidth": 2
          }
         }
        },
        "title": {
         "text": "% User per Topic<br>ques : letter_to_shareholders",
         "x": 0.5,
         "xanchor": "center",
         "y": 0.95,
         "yanchor": "top"
        },
        "width": 1000,
        "xaxis": {
         "anchor": "y",
         "domain": [
          0,
          1
         ],
         "title": {
          "text": "Topic"
         }
        },
        "yaxis": {
         "anchor": "x",
         "domain": [
          0,
          1
         ],
         "range": [
          0,
          1
         ],
         "title": {
          "text": "% user"
         }
        }
       }
      },
      "text/html": [
       "<div>\n",
       "        \n",
       "        \n",
       "            <div id=\"0d8b178e-671a-4814-9350-f9c79ee0a40b\" class=\"plotly-graph-div\" style=\"height:450px; width:1000px;\"></div>\n",
       "            <script type=\"text/javascript\">\n",
       "                require([\"plotly\"], function(Plotly) {\n",
       "                    window.PLOTLYENV=window.PLOTLYENV || {};\n",
       "                    \n",
       "                if (document.getElementById(\"0d8b178e-671a-4814-9350-f9c79ee0a40b\")) {\n",
       "                    Plotly.newPlot(\n",
       "                        '0d8b178e-671a-4814-9350-f9c79ee0a40b',\n",
       "                        [{\"alignmentgroup\": \"True\", \"hovertemplate\": \"x=%{x}<br>y=%{y}<extra></extra>\", \"legendgroup\": \"\", \"marker\": {\"color\": \"#636efa\"}, \"name\": \"\", \"offsetgroup\": \"\", \"orientation\": \"v\", \"showlegend\": false, \"textposition\": \"auto\", \"type\": \"bar\", \"x\": [\"3\", \"2\", \"1\", \"0\"], \"xaxis\": \"x\", \"y\": [0.54, 0.26, 0.15, 0.05], \"yaxis\": \"y\"}],\n",
       "                        {\"barmode\": \"relative\", \"height\": 450, \"legend\": {\"tracegroupgap\": 0}, \"margin\": {\"t\": 60}, \"template\": {\"data\": {\"bar\": [{\"error_x\": {\"color\": \"#2a3f5f\"}, \"error_y\": {\"color\": \"#2a3f5f\"}, \"marker\": {\"line\": {\"color\": \"#E5ECF6\", \"width\": 0.5}}, \"type\": \"bar\"}], \"barpolar\": [{\"marker\": {\"line\": {\"color\": \"#E5ECF6\", \"width\": 0.5}}, \"type\": \"barpolar\"}], \"carpet\": [{\"aaxis\": {\"endlinecolor\": \"#2a3f5f\", \"gridcolor\": \"white\", \"linecolor\": \"white\", \"minorgridcolor\": \"white\", \"startlinecolor\": \"#2a3f5f\"}, \"baxis\": {\"endlinecolor\": \"#2a3f5f\", \"gridcolor\": \"white\", \"linecolor\": \"white\", \"minorgridcolor\": \"white\", \"startlinecolor\": \"#2a3f5f\"}, \"type\": \"carpet\"}], \"choropleth\": [{\"colorbar\": {\"outlinewidth\": 0, \"ticks\": \"\"}, \"type\": \"choropleth\"}], \"contour\": [{\"colorbar\": {\"outlinewidth\": 0, \"ticks\": \"\"}, \"colorscale\": [[0.0, \"#0d0887\"], [0.1111111111111111, \"#46039f\"], [0.2222222222222222, \"#7201a8\"], [0.3333333333333333, \"#9c179e\"], [0.4444444444444444, \"#bd3786\"], [0.5555555555555556, \"#d8576b\"], [0.6666666666666666, \"#ed7953\"], [0.7777777777777778, \"#fb9f3a\"], [0.8888888888888888, \"#fdca26\"], [1.0, \"#f0f921\"]], \"type\": \"contour\"}], \"contourcarpet\": [{\"colorbar\": {\"outlinewidth\": 0, \"ticks\": \"\"}, \"type\": \"contourcarpet\"}], \"heatmap\": [{\"colorbar\": {\"outlinewidth\": 0, \"ticks\": \"\"}, \"colorscale\": [[0.0, \"#0d0887\"], [0.1111111111111111, \"#46039f\"], [0.2222222222222222, \"#7201a8\"], [0.3333333333333333, \"#9c179e\"], [0.4444444444444444, \"#bd3786\"], [0.5555555555555556, \"#d8576b\"], [0.6666666666666666, \"#ed7953\"], [0.7777777777777778, \"#fb9f3a\"], [0.8888888888888888, \"#fdca26\"], [1.0, \"#f0f921\"]], \"type\": \"heatmap\"}], \"heatmapgl\": [{\"colorbar\": {\"outlinewidth\": 0, \"ticks\": \"\"}, \"colorscale\": [[0.0, \"#0d0887\"], [0.1111111111111111, \"#46039f\"], [0.2222222222222222, \"#7201a8\"], [0.3333333333333333, \"#9c179e\"], [0.4444444444444444, \"#bd3786\"], [0.5555555555555556, \"#d8576b\"], [0.6666666666666666, \"#ed7953\"], [0.7777777777777778, \"#fb9f3a\"], [0.8888888888888888, \"#fdca26\"], [1.0, \"#f0f921\"]], \"type\": \"heatmapgl\"}], \"histogram\": [{\"marker\": {\"colorbar\": {\"outlinewidth\": 0, \"ticks\": \"\"}}, \"type\": \"histogram\"}], \"histogram2d\": [{\"colorbar\": {\"outlinewidth\": 0, \"ticks\": \"\"}, \"colorscale\": [[0.0, \"#0d0887\"], [0.1111111111111111, \"#46039f\"], [0.2222222222222222, \"#7201a8\"], [0.3333333333333333, \"#9c179e\"], [0.4444444444444444, \"#bd3786\"], [0.5555555555555556, \"#d8576b\"], [0.6666666666666666, \"#ed7953\"], [0.7777777777777778, \"#fb9f3a\"], [0.8888888888888888, \"#fdca26\"], [1.0, \"#f0f921\"]], \"type\": \"histogram2d\"}], \"histogram2dcontour\": [{\"colorbar\": {\"outlinewidth\": 0, \"ticks\": \"\"}, \"colorscale\": [[0.0, \"#0d0887\"], [0.1111111111111111, \"#46039f\"], [0.2222222222222222, \"#7201a8\"], [0.3333333333333333, \"#9c179e\"], [0.4444444444444444, \"#bd3786\"], [0.5555555555555556, \"#d8576b\"], [0.6666666666666666, \"#ed7953\"], [0.7777777777777778, \"#fb9f3a\"], [0.8888888888888888, \"#fdca26\"], [1.0, \"#f0f921\"]], \"type\": \"histogram2dcontour\"}], \"mesh3d\": [{\"colorbar\": {\"outlinewidth\": 0, \"ticks\": \"\"}, \"type\": \"mesh3d\"}], \"parcoords\": [{\"line\": {\"colorbar\": {\"outlinewidth\": 0, \"ticks\": \"\"}}, \"type\": \"parcoords\"}], \"pie\": [{\"automargin\": true, \"type\": \"pie\"}], \"scatter\": [{\"marker\": {\"colorbar\": {\"outlinewidth\": 0, \"ticks\": \"\"}}, \"type\": \"scatter\"}], \"scatter3d\": [{\"line\": {\"colorbar\": {\"outlinewidth\": 0, \"ticks\": \"\"}}, \"marker\": {\"colorbar\": {\"outlinewidth\": 0, \"ticks\": \"\"}}, \"type\": \"scatter3d\"}], \"scattercarpet\": [{\"marker\": {\"colorbar\": {\"outlinewidth\": 0, \"ticks\": \"\"}}, \"type\": \"scattercarpet\"}], \"scattergeo\": [{\"marker\": {\"colorbar\": {\"outlinewidth\": 0, \"ticks\": \"\"}}, \"type\": \"scattergeo\"}], \"scattergl\": [{\"marker\": {\"colorbar\": {\"outlinewidth\": 0, \"ticks\": \"\"}}, \"type\": \"scattergl\"}], \"scattermapbox\": [{\"marker\": {\"colorbar\": {\"outlinewidth\": 0, \"ticks\": \"\"}}, \"type\": \"scattermapbox\"}], \"scatterpolar\": [{\"marker\": {\"colorbar\": {\"outlinewidth\": 0, \"ticks\": \"\"}}, \"type\": \"scatterpolar\"}], \"scatterpolargl\": [{\"marker\": {\"colorbar\": {\"outlinewidth\": 0, \"ticks\": \"\"}}, \"type\": \"scatterpolargl\"}], \"scatterternary\": [{\"marker\": {\"colorbar\": {\"outlinewidth\": 0, \"ticks\": \"\"}}, \"type\": \"scatterternary\"}], \"surface\": [{\"colorbar\": {\"outlinewidth\": 0, \"ticks\": \"\"}, \"colorscale\": [[0.0, \"#0d0887\"], [0.1111111111111111, \"#46039f\"], [0.2222222222222222, \"#7201a8\"], [0.3333333333333333, \"#9c179e\"], [0.4444444444444444, \"#bd3786\"], [0.5555555555555556, \"#d8576b\"], [0.6666666666666666, \"#ed7953\"], [0.7777777777777778, \"#fb9f3a\"], [0.8888888888888888, \"#fdca26\"], [1.0, \"#f0f921\"]], \"type\": \"surface\"}], \"table\": [{\"cells\": {\"fill\": {\"color\": \"#EBF0F8\"}, \"line\": {\"color\": \"white\"}}, \"header\": {\"fill\": {\"color\": \"#C8D4E3\"}, \"line\": {\"color\": \"white\"}}, \"type\": \"table\"}]}, \"layout\": {\"annotationdefaults\": {\"arrowcolor\": \"#2a3f5f\", \"arrowhead\": 0, \"arrowwidth\": 1}, \"coloraxis\": {\"colorbar\": {\"outlinewidth\": 0, \"ticks\": \"\"}}, \"colorscale\": {\"diverging\": [[0, \"#8e0152\"], [0.1, \"#c51b7d\"], [0.2, \"#de77ae\"], [0.3, \"#f1b6da\"], [0.4, \"#fde0ef\"], [0.5, \"#f7f7f7\"], [0.6, \"#e6f5d0\"], [0.7, \"#b8e186\"], [0.8, \"#7fbc41\"], [0.9, \"#4d9221\"], [1, \"#276419\"]], \"sequential\": [[0.0, \"#0d0887\"], [0.1111111111111111, \"#46039f\"], [0.2222222222222222, \"#7201a8\"], [0.3333333333333333, \"#9c179e\"], [0.4444444444444444, \"#bd3786\"], [0.5555555555555556, \"#d8576b\"], [0.6666666666666666, \"#ed7953\"], [0.7777777777777778, \"#fb9f3a\"], [0.8888888888888888, \"#fdca26\"], [1.0, \"#f0f921\"]], \"sequentialminus\": [[0.0, \"#0d0887\"], [0.1111111111111111, \"#46039f\"], [0.2222222222222222, \"#7201a8\"], [0.3333333333333333, \"#9c179e\"], [0.4444444444444444, \"#bd3786\"], [0.5555555555555556, \"#d8576b\"], [0.6666666666666666, \"#ed7953\"], [0.7777777777777778, \"#fb9f3a\"], [0.8888888888888888, \"#fdca26\"], [1.0, \"#f0f921\"]]}, \"colorway\": [\"#636efa\", \"#EF553B\", \"#00cc96\", \"#ab63fa\", \"#FFA15A\", \"#19d3f3\", \"#FF6692\", \"#B6E880\", \"#FF97FF\", \"#FECB52\"], \"font\": {\"color\": \"#2a3f5f\"}, \"geo\": {\"bgcolor\": \"white\", \"lakecolor\": \"white\", \"landcolor\": \"#E5ECF6\", \"showlakes\": true, \"showland\": true, \"subunitcolor\": \"white\"}, \"hoverlabel\": {\"align\": \"left\"}, \"hovermode\": \"closest\", \"mapbox\": {\"style\": \"light\"}, \"paper_bgcolor\": \"white\", \"plot_bgcolor\": \"#E5ECF6\", \"polar\": {\"angularaxis\": {\"gridcolor\": \"white\", \"linecolor\": \"white\", \"ticks\": \"\"}, \"bgcolor\": \"#E5ECF6\", \"radialaxis\": {\"gridcolor\": \"white\", \"linecolor\": \"white\", \"ticks\": \"\"}}, \"scene\": {\"xaxis\": {\"backgroundcolor\": \"#E5ECF6\", \"gridcolor\": \"white\", \"gridwidth\": 2, \"linecolor\": \"white\", \"showbackground\": true, \"ticks\": \"\", \"zerolinecolor\": \"white\"}, \"yaxis\": {\"backgroundcolor\": \"#E5ECF6\", \"gridcolor\": \"white\", \"gridwidth\": 2, \"linecolor\": \"white\", \"showbackground\": true, \"ticks\": \"\", \"zerolinecolor\": \"white\"}, \"zaxis\": {\"backgroundcolor\": \"#E5ECF6\", \"gridcolor\": \"white\", \"gridwidth\": 2, \"linecolor\": \"white\", \"showbackground\": true, \"ticks\": \"\", \"zerolinecolor\": \"white\"}}, \"shapedefaults\": {\"line\": {\"color\": \"#2a3f5f\"}}, \"ternary\": {\"aaxis\": {\"gridcolor\": \"white\", \"linecolor\": \"white\", \"ticks\": \"\"}, \"baxis\": {\"gridcolor\": \"white\", \"linecolor\": \"white\", \"ticks\": \"\"}, \"bgcolor\": \"#E5ECF6\", \"caxis\": {\"gridcolor\": \"white\", \"linecolor\": \"white\", \"ticks\": \"\"}}, \"title\": {\"x\": 0.05}, \"xaxis\": {\"automargin\": true, \"gridcolor\": \"white\", \"linecolor\": \"white\", \"ticks\": \"\", \"title\": {\"standoff\": 15}, \"zerolinecolor\": \"white\", \"zerolinewidth\": 2}, \"yaxis\": {\"automargin\": true, \"gridcolor\": \"white\", \"linecolor\": \"white\", \"ticks\": \"\", \"title\": {\"standoff\": 15}, \"zerolinecolor\": \"white\", \"zerolinewidth\": 2}}}, \"title\": {\"text\": \"% User per Topic<br>ques : letter_to_shareholders\", \"x\": 0.5, \"xanchor\": \"center\", \"y\": 0.95, \"yanchor\": \"top\"}, \"width\": 1000, \"xaxis\": {\"anchor\": \"y\", \"domain\": [0.0, 1.0], \"title\": {\"text\": \"Topic\"}}, \"yaxis\": {\"anchor\": \"x\", \"domain\": [0.0, 1.0], \"range\": [0, 1], \"title\": {\"text\": \"% user\"}}},\n",
       "                        {\"responsive\": true}\n",
       "                    ).then(function(){\n",
       "                            \n",
       "var gd = document.getElementById('0d8b178e-671a-4814-9350-f9c79ee0a40b');\n",
       "var x = new MutationObserver(function (mutations, observer) {{\n",
       "        var display = window.getComputedStyle(gd).display;\n",
       "        if (!display || display === 'none') {{\n",
       "            console.log([gd, 'removed!']);\n",
       "            Plotly.purge(gd);\n",
       "            observer.disconnect();\n",
       "        }}\n",
       "}});\n",
       "\n",
       "// Listen for the removal of the full notebook cells\n",
       "var notebookContainer = gd.closest('#notebook-container');\n",
       "if (notebookContainer) {{\n",
       "    x.observe(notebookContainer, {childList: true});\n",
       "}}\n",
       "\n",
       "// Listen for the clearing of the current output cell\n",
       "var outputEl = gd.closest('.output');\n",
       "if (outputEl) {{\n",
       "    x.observe(outputEl, {childList: true});\n",
       "}}\n",
       "\n",
       "                        })\n",
       "                };\n",
       "                });\n",
       "            </script>\n",
       "        </div>"
      ]
     },
     "metadata": {},
     "output_type": "display_data"
    }
   ],
   "source": [
    "#Finally, we want to understand the VOLUME and DISTRIBUTION of topics in order to judge how widely it was discussed. \n",
    "df_dominant_topic_stats = dominant_topic_stats( data=df_dominant_topic, use_topic_name=use_topic_name, verbose=verbose )\n",
    "plot_percUserPerTopic(data=df_dominant_topic_stats, graph_width=1000, graph_height=450, col_main=col_main, limit_y_axis=[0,1],\n",
    "                       offset_path=offset_path, im_path=IMAGE_PATH, save_plot=save_plot, show_plot=show_plot, save_html=save_html )\n"
   ]
  },
  {
   "cell_type": "markdown",
   "metadata": {},
   "source": [
    "**Top keywords**\n",
    "* top keywords under each Topic, sorted by their weight"
   ]
  },
  {
   "cell_type": "code",
   "execution_count": null,
   "metadata": {},
   "outputs": [],
   "source": []
  },
  {
   "cell_type": "code",
   "execution_count": 30,
   "metadata": {},
   "outputs": [
    {
     "data": {
      "application/vnd.plotly.v1+json": {
       "config": {
        "plotlyServerURL": "https://plot.ly"
       },
       "data": [
        {
         "name": "Topic-0",
         "orientation": "h",
         "type": "bar",
         "x": [
          0.024343149736523628,
          0.024343149736523628,
          0.0245534498244524,
          0.02495662495493889,
          0.025554822757840157,
          0.02556690014898777,
          0.026008527725934982,
          0.026469064876437187,
          0.026967916637659073,
          0.02697039023041725,
          0.02790549024939537,
          0.028258176520466805,
          0.02836388349533081,
          0.028704043477773666,
          0.02893984317779541,
          0.0301718320697546,
          0.035684119910001755,
          0.04715464264154434,
          0.05052147060632706,
          0.05369875580072403
         ],
         "xaxis": "x",
         "y": [
          "kpi",
          "close",
          "line",
          "feedback",
          "stakeholder",
          "influence",
          "focus",
          "deliver",
          "activity",
          "measurable",
          "term",
          "clear",
          "manager",
          "provide",
          "outcome",
          "quota",
          "sale_leader",
          "rate",
          "win",
          "deal"
         ],
         "yaxis": "y"
        },
        {
         "name": "Topic-1",
         "orientation": "h",
         "type": "bar",
         "x": [
          0.014635942876338959,
          0.015339133329689503,
          0.015534370206296444,
          0.015608093701303005,
          0.016054609790444374,
          0.019000882282853127,
          0.021015822887420654,
          0.021389760076999664,
          0.028629308566451073,
          0.028719313442707062,
          0.028729770332574844,
          0.02950100041925907,
          0.02966994047164917,
          0.03074820525944233,
          0.034097541123628616,
          0.036754004657268524,
          0.040364064276218414,
          0.050746627151966095,
          0.055793918669223785,
          0.08615008741617203
         ],
         "xaxis": "x2",
         "y": [
          "level",
          "increase",
          "measure",
          "ability",
          "work",
          "time",
          "include",
          "tool",
          "space",
          "relationship",
          "lead",
          "try",
          "score",
          "differentiate",
          "great",
          "process",
          "impact",
          "need",
          "satisfaction",
          "employee"
         ],
         "yaxis": "y2"
        },
        {
         "name": "Topic-2",
         "orientation": "h",
         "type": "bar",
         "x": [
          0.011784042231738567,
          0.011885386891663074,
          0.012055251747369766,
          0.012137757614254951,
          0.0165251512080431,
          0.016530122607946396,
          0.01779908873140812,
          0.021028323099017143,
          0.021250655874609947,
          0.02154378779232502,
          0.023315487429499626,
          0.024371523410081863,
          0.02735057659447193,
          0.02949976921081543,
          0.03637558966875076,
          0.03880108892917633,
          0.0457761287689209,
          0.05417761206626892,
          0.061144325882196426,
          0.07396707683801651
         ],
         "xaxis": "x3",
         "y": [
          "tie",
          "include",
          "able",
          "vision",
          "support",
          "impact",
          "program",
          "shareholder",
          "content",
          "invest",
          "capture",
          "performance",
          "sale_team",
          "growth",
          "enable",
          "new",
          "customer_experience",
          "focus",
          "drive",
          "revenue"
         ],
         "yaxis": "y3"
        },
        {
         "name": "Topic-3",
         "orientation": "h",
         "type": "bar",
         "x": [
          0.011518438346683979,
          0.011565768159925938,
          0.011890478432178497,
          0.012169763445854187,
          0.012486227788031101,
          0.012521120719611645,
          0.01299498975276947,
          0.014112773351371288,
          0.014189601875841618,
          0.015793247148394585,
          0.01610315591096878,
          0.016597848385572433,
          0.016904287040233612,
          0.01757238246500492,
          0.01784096471965313,
          0.019364597275853157,
          0.02217048592865467,
          0.024602361023426056,
          0.03096933104097843,
          0.05603727698326111
         ],
         "xaxis": "x4",
         "y": [
          "kpis",
          "way",
          "create",
          "use",
          "strategy",
          "technology",
          "seller",
          "improve",
          "market",
          "thing",
          "change",
          "value",
          "plan",
          "success",
          "challenge",
          "help",
          "need",
          "metric",
          "result",
          "sale"
         ],
         "yaxis": "y4"
        }
       ],
       "layout": {
        "annotations": [
         {
          "font": {
           "color": "black",
           "size": 12
          },
          "showarrow": false,
          "text": "Topic-0",
          "x": 0.10625,
          "xanchor": "center",
          "xref": "paper",
          "y": 1,
          "yanchor": "bottom",
          "yref": "paper"
         },
         {
          "font": {
           "color": "black",
           "size": 12
          },
          "showarrow": false,
          "text": "Topic-1",
          "x": 0.36875,
          "xanchor": "center",
          "xref": "paper",
          "y": 1,
          "yanchor": "bottom",
          "yref": "paper"
         },
         {
          "font": {
           "color": "black",
           "size": 12
          },
          "showarrow": false,
          "text": "Topic-2",
          "x": 0.6312500000000001,
          "xanchor": "center",
          "xref": "paper",
          "y": 1,
          "yanchor": "bottom",
          "yref": "paper"
         },
         {
          "font": {
           "color": "black",
           "size": 12
          },
          "showarrow": false,
          "text": "Topic-3",
          "x": 0.89375,
          "xanchor": "center",
          "xref": "paper",
          "y": 1,
          "yanchor": "bottom",
          "yref": "paper"
         }
        ],
        "height": 650,
        "template": {
         "data": {
          "bar": [
           {
            "error_x": {
             "color": "#2a3f5f"
            },
            "error_y": {
             "color": "#2a3f5f"
            },
            "marker": {
             "line": {
              "color": "#E5ECF6",
              "width": 0.5
             }
            },
            "type": "bar"
           }
          ],
          "barpolar": [
           {
            "marker": {
             "line": {
              "color": "#E5ECF6",
              "width": 0.5
             }
            },
            "type": "barpolar"
           }
          ],
          "carpet": [
           {
            "aaxis": {
             "endlinecolor": "#2a3f5f",
             "gridcolor": "white",
             "linecolor": "white",
             "minorgridcolor": "white",
             "startlinecolor": "#2a3f5f"
            },
            "baxis": {
             "endlinecolor": "#2a3f5f",
             "gridcolor": "white",
             "linecolor": "white",
             "minorgridcolor": "white",
             "startlinecolor": "#2a3f5f"
            },
            "type": "carpet"
           }
          ],
          "choropleth": [
           {
            "colorbar": {
             "outlinewidth": 0,
             "ticks": ""
            },
            "type": "choropleth"
           }
          ],
          "contour": [
           {
            "colorbar": {
             "outlinewidth": 0,
             "ticks": ""
            },
            "colorscale": [
             [
              0,
              "#0d0887"
             ],
             [
              0.1111111111111111,
              "#46039f"
             ],
             [
              0.2222222222222222,
              "#7201a8"
             ],
             [
              0.3333333333333333,
              "#9c179e"
             ],
             [
              0.4444444444444444,
              "#bd3786"
             ],
             [
              0.5555555555555556,
              "#d8576b"
             ],
             [
              0.6666666666666666,
              "#ed7953"
             ],
             [
              0.7777777777777778,
              "#fb9f3a"
             ],
             [
              0.8888888888888888,
              "#fdca26"
             ],
             [
              1,
              "#f0f921"
             ]
            ],
            "type": "contour"
           }
          ],
          "contourcarpet": [
           {
            "colorbar": {
             "outlinewidth": 0,
             "ticks": ""
            },
            "type": "contourcarpet"
           }
          ],
          "heatmap": [
           {
            "colorbar": {
             "outlinewidth": 0,
             "ticks": ""
            },
            "colorscale": [
             [
              0,
              "#0d0887"
             ],
             [
              0.1111111111111111,
              "#46039f"
             ],
             [
              0.2222222222222222,
              "#7201a8"
             ],
             [
              0.3333333333333333,
              "#9c179e"
             ],
             [
              0.4444444444444444,
              "#bd3786"
             ],
             [
              0.5555555555555556,
              "#d8576b"
             ],
             [
              0.6666666666666666,
              "#ed7953"
             ],
             [
              0.7777777777777778,
              "#fb9f3a"
             ],
             [
              0.8888888888888888,
              "#fdca26"
             ],
             [
              1,
              "#f0f921"
             ]
            ],
            "type": "heatmap"
           }
          ],
          "heatmapgl": [
           {
            "colorbar": {
             "outlinewidth": 0,
             "ticks": ""
            },
            "colorscale": [
             [
              0,
              "#0d0887"
             ],
             [
              0.1111111111111111,
              "#46039f"
             ],
             [
              0.2222222222222222,
              "#7201a8"
             ],
             [
              0.3333333333333333,
              "#9c179e"
             ],
             [
              0.4444444444444444,
              "#bd3786"
             ],
             [
              0.5555555555555556,
              "#d8576b"
             ],
             [
              0.6666666666666666,
              "#ed7953"
             ],
             [
              0.7777777777777778,
              "#fb9f3a"
             ],
             [
              0.8888888888888888,
              "#fdca26"
             ],
             [
              1,
              "#f0f921"
             ]
            ],
            "type": "heatmapgl"
           }
          ],
          "histogram": [
           {
            "marker": {
             "colorbar": {
              "outlinewidth": 0,
              "ticks": ""
             }
            },
            "type": "histogram"
           }
          ],
          "histogram2d": [
           {
            "colorbar": {
             "outlinewidth": 0,
             "ticks": ""
            },
            "colorscale": [
             [
              0,
              "#0d0887"
             ],
             [
              0.1111111111111111,
              "#46039f"
             ],
             [
              0.2222222222222222,
              "#7201a8"
             ],
             [
              0.3333333333333333,
              "#9c179e"
             ],
             [
              0.4444444444444444,
              "#bd3786"
             ],
             [
              0.5555555555555556,
              "#d8576b"
             ],
             [
              0.6666666666666666,
              "#ed7953"
             ],
             [
              0.7777777777777778,
              "#fb9f3a"
             ],
             [
              0.8888888888888888,
              "#fdca26"
             ],
             [
              1,
              "#f0f921"
             ]
            ],
            "type": "histogram2d"
           }
          ],
          "histogram2dcontour": [
           {
            "colorbar": {
             "outlinewidth": 0,
             "ticks": ""
            },
            "colorscale": [
             [
              0,
              "#0d0887"
             ],
             [
              0.1111111111111111,
              "#46039f"
             ],
             [
              0.2222222222222222,
              "#7201a8"
             ],
             [
              0.3333333333333333,
              "#9c179e"
             ],
             [
              0.4444444444444444,
              "#bd3786"
             ],
             [
              0.5555555555555556,
              "#d8576b"
             ],
             [
              0.6666666666666666,
              "#ed7953"
             ],
             [
              0.7777777777777778,
              "#fb9f3a"
             ],
             [
              0.8888888888888888,
              "#fdca26"
             ],
             [
              1,
              "#f0f921"
             ]
            ],
            "type": "histogram2dcontour"
           }
          ],
          "mesh3d": [
           {
            "colorbar": {
             "outlinewidth": 0,
             "ticks": ""
            },
            "type": "mesh3d"
           }
          ],
          "parcoords": [
           {
            "line": {
             "colorbar": {
              "outlinewidth": 0,
              "ticks": ""
             }
            },
            "type": "parcoords"
           }
          ],
          "pie": [
           {
            "automargin": true,
            "type": "pie"
           }
          ],
          "scatter": [
           {
            "marker": {
             "colorbar": {
              "outlinewidth": 0,
              "ticks": ""
             }
            },
            "type": "scatter"
           }
          ],
          "scatter3d": [
           {
            "line": {
             "colorbar": {
              "outlinewidth": 0,
              "ticks": ""
             }
            },
            "marker": {
             "colorbar": {
              "outlinewidth": 0,
              "ticks": ""
             }
            },
            "type": "scatter3d"
           }
          ],
          "scattercarpet": [
           {
            "marker": {
             "colorbar": {
              "outlinewidth": 0,
              "ticks": ""
             }
            },
            "type": "scattercarpet"
           }
          ],
          "scattergeo": [
           {
            "marker": {
             "colorbar": {
              "outlinewidth": 0,
              "ticks": ""
             }
            },
            "type": "scattergeo"
           }
          ],
          "scattergl": [
           {
            "marker": {
             "colorbar": {
              "outlinewidth": 0,
              "ticks": ""
             }
            },
            "type": "scattergl"
           }
          ],
          "scattermapbox": [
           {
            "marker": {
             "colorbar": {
              "outlinewidth": 0,
              "ticks": ""
             }
            },
            "type": "scattermapbox"
           }
          ],
          "scatterpolar": [
           {
            "marker": {
             "colorbar": {
              "outlinewidth": 0,
              "ticks": ""
             }
            },
            "type": "scatterpolar"
           }
          ],
          "scatterpolargl": [
           {
            "marker": {
             "colorbar": {
              "outlinewidth": 0,
              "ticks": ""
             }
            },
            "type": "scatterpolargl"
           }
          ],
          "scatterternary": [
           {
            "marker": {
             "colorbar": {
              "outlinewidth": 0,
              "ticks": ""
             }
            },
            "type": "scatterternary"
           }
          ],
          "surface": [
           {
            "colorbar": {
             "outlinewidth": 0,
             "ticks": ""
            },
            "colorscale": [
             [
              0,
              "#0d0887"
             ],
             [
              0.1111111111111111,
              "#46039f"
             ],
             [
              0.2222222222222222,
              "#7201a8"
             ],
             [
              0.3333333333333333,
              "#9c179e"
             ],
             [
              0.4444444444444444,
              "#bd3786"
             ],
             [
              0.5555555555555556,
              "#d8576b"
             ],
             [
              0.6666666666666666,
              "#ed7953"
             ],
             [
              0.7777777777777778,
              "#fb9f3a"
             ],
             [
              0.8888888888888888,
              "#fdca26"
             ],
             [
              1,
              "#f0f921"
             ]
            ],
            "type": "surface"
           }
          ],
          "table": [
           {
            "cells": {
             "fill": {
              "color": "#EBF0F8"
             },
             "line": {
              "color": "white"
             }
            },
            "header": {
             "fill": {
              "color": "#C8D4E3"
             },
             "line": {
              "color": "white"
             }
            },
            "type": "table"
           }
          ]
         },
         "layout": {
          "annotationdefaults": {
           "arrowcolor": "#2a3f5f",
           "arrowhead": 0,
           "arrowwidth": 1
          },
          "coloraxis": {
           "colorbar": {
            "outlinewidth": 0,
            "ticks": ""
           }
          },
          "colorscale": {
           "diverging": [
            [
             0,
             "#8e0152"
            ],
            [
             0.1,
             "#c51b7d"
            ],
            [
             0.2,
             "#de77ae"
            ],
            [
             0.3,
             "#f1b6da"
            ],
            [
             0.4,
             "#fde0ef"
            ],
            [
             0.5,
             "#f7f7f7"
            ],
            [
             0.6,
             "#e6f5d0"
            ],
            [
             0.7,
             "#b8e186"
            ],
            [
             0.8,
             "#7fbc41"
            ],
            [
             0.9,
             "#4d9221"
            ],
            [
             1,
             "#276419"
            ]
           ],
           "sequential": [
            [
             0,
             "#0d0887"
            ],
            [
             0.1111111111111111,
             "#46039f"
            ],
            [
             0.2222222222222222,
             "#7201a8"
            ],
            [
             0.3333333333333333,
             "#9c179e"
            ],
            [
             0.4444444444444444,
             "#bd3786"
            ],
            [
             0.5555555555555556,
             "#d8576b"
            ],
            [
             0.6666666666666666,
             "#ed7953"
            ],
            [
             0.7777777777777778,
             "#fb9f3a"
            ],
            [
             0.8888888888888888,
             "#fdca26"
            ],
            [
             1,
             "#f0f921"
            ]
           ],
           "sequentialminus": [
            [
             0,
             "#0d0887"
            ],
            [
             0.1111111111111111,
             "#46039f"
            ],
            [
             0.2222222222222222,
             "#7201a8"
            ],
            [
             0.3333333333333333,
             "#9c179e"
            ],
            [
             0.4444444444444444,
             "#bd3786"
            ],
            [
             0.5555555555555556,
             "#d8576b"
            ],
            [
             0.6666666666666666,
             "#ed7953"
            ],
            [
             0.7777777777777778,
             "#fb9f3a"
            ],
            [
             0.8888888888888888,
             "#fdca26"
            ],
            [
             1,
             "#f0f921"
            ]
           ]
          },
          "colorway": [
           "#636efa",
           "#EF553B",
           "#00cc96",
           "#ab63fa",
           "#FFA15A",
           "#19d3f3",
           "#FF6692",
           "#B6E880",
           "#FF97FF",
           "#FECB52"
          ],
          "font": {
           "color": "#2a3f5f"
          },
          "geo": {
           "bgcolor": "white",
           "lakecolor": "white",
           "landcolor": "#E5ECF6",
           "showlakes": true,
           "showland": true,
           "subunitcolor": "white"
          },
          "hoverlabel": {
           "align": "left"
          },
          "hovermode": "closest",
          "mapbox": {
           "style": "light"
          },
          "paper_bgcolor": "white",
          "plot_bgcolor": "#E5ECF6",
          "polar": {
           "angularaxis": {
            "gridcolor": "white",
            "linecolor": "white",
            "ticks": ""
           },
           "bgcolor": "#E5ECF6",
           "radialaxis": {
            "gridcolor": "white",
            "linecolor": "white",
            "ticks": ""
           }
          },
          "scene": {
           "xaxis": {
            "backgroundcolor": "#E5ECF6",
            "gridcolor": "white",
            "gridwidth": 2,
            "linecolor": "white",
            "showbackground": true,
            "ticks": "",
            "zerolinecolor": "white"
           },
           "yaxis": {
            "backgroundcolor": "#E5ECF6",
            "gridcolor": "white",
            "gridwidth": 2,
            "linecolor": "white",
            "showbackground": true,
            "ticks": "",
            "zerolinecolor": "white"
           },
           "zaxis": {
            "backgroundcolor": "#E5ECF6",
            "gridcolor": "white",
            "gridwidth": 2,
            "linecolor": "white",
            "showbackground": true,
            "ticks": "",
            "zerolinecolor": "white"
           }
          },
          "shapedefaults": {
           "line": {
            "color": "#2a3f5f"
           }
          },
          "ternary": {
           "aaxis": {
            "gridcolor": "white",
            "linecolor": "white",
            "ticks": ""
           },
           "baxis": {
            "gridcolor": "white",
            "linecolor": "white",
            "ticks": ""
           },
           "bgcolor": "#E5ECF6",
           "caxis": {
            "gridcolor": "white",
            "linecolor": "white",
            "ticks": ""
           }
          },
          "title": {
           "x": 0.05
          },
          "xaxis": {
           "automargin": true,
           "gridcolor": "white",
           "linecolor": "white",
           "ticks": "",
           "title": {
            "standoff": 15
           },
           "zerolinecolor": "white",
           "zerolinewidth": 2
          },
          "yaxis": {
           "automargin": true,
           "gridcolor": "white",
           "linecolor": "white",
           "ticks": "",
           "title": {
            "standoff": 15
           },
           "zerolinecolor": "white",
           "zerolinewidth": 2
          }
         }
        },
        "title": {
         "text": "Top Keywords per Topic<br>ques : letter_to_shareholders",
         "x": 0.5,
         "xanchor": "center",
         "y": 0.9,
         "yanchor": "top"
        },
        "width": 1400,
        "xaxis": {
         "anchor": "y",
         "domain": [
          0,
          0.2125
         ],
         "title": {
          "text": "keyword weight"
         }
        },
        "xaxis2": {
         "anchor": "y2",
         "domain": [
          0.2625,
          0.475
         ]
        },
        "xaxis3": {
         "anchor": "y3",
         "domain": [
          0.525,
          0.7375
         ]
        },
        "xaxis4": {
         "anchor": "y4",
         "domain": [
          0.7875,
          1
         ]
        },
        "yaxis": {
         "anchor": "x",
         "domain": [
          0,
          1
         ]
        },
        "yaxis2": {
         "anchor": "x2",
         "domain": [
          0,
          1
         ]
        },
        "yaxis3": {
         "anchor": "x3",
         "domain": [
          0,
          1
         ]
        },
        "yaxis4": {
         "anchor": "x4",
         "domain": [
          0,
          1
         ]
        }
       }
      },
      "text/html": [
       "<div>\n",
       "        \n",
       "        \n",
       "            <div id=\"39fe3ac4-bbb4-4518-b41b-8adf7e003408\" class=\"plotly-graph-div\" style=\"height:650px; width:1400px;\"></div>\n",
       "            <script type=\"text/javascript\">\n",
       "                require([\"plotly\"], function(Plotly) {\n",
       "                    window.PLOTLYENV=window.PLOTLYENV || {};\n",
       "                    \n",
       "                if (document.getElementById(\"39fe3ac4-bbb4-4518-b41b-8adf7e003408\")) {\n",
       "                    Plotly.newPlot(\n",
       "                        '39fe3ac4-bbb4-4518-b41b-8adf7e003408',\n",
       "                        [{\"name\": \"Topic-0\", \"orientation\": \"h\", \"type\": \"bar\", \"x\": [0.024343149736523628, 0.024343149736523628, 0.0245534498244524, 0.02495662495493889, 0.025554822757840157, 0.02556690014898777, 0.026008527725934982, 0.026469064876437187, 0.026967916637659073, 0.02697039023041725, 0.02790549024939537, 0.028258176520466805, 0.02836388349533081, 0.028704043477773666, 0.02893984317779541, 0.0301718320697546, 0.035684119910001755, 0.04715464264154434, 0.05052147060632706, 0.05369875580072403], \"xaxis\": \"x\", \"y\": [\"kpi\", \"close\", \"line\", \"feedback\", \"stakeholder\", \"influence\", \"focus\", \"deliver\", \"activity\", \"measurable\", \"term\", \"clear\", \"manager\", \"provide\", \"outcome\", \"quota\", \"sale_leader\", \"rate\", \"win\", \"deal\"], \"yaxis\": \"y\"}, {\"name\": \"Topic-1\", \"orientation\": \"h\", \"type\": \"bar\", \"x\": [0.014635942876338959, 0.015339133329689503, 0.015534370206296444, 0.015608093701303005, 0.016054609790444374, 0.019000882282853127, 0.021015822887420654, 0.021389760076999664, 0.028629308566451073, 0.028719313442707062, 0.028729770332574844, 0.02950100041925907, 0.02966994047164917, 0.03074820525944233, 0.034097541123628616, 0.036754004657268524, 0.040364064276218414, 0.050746627151966095, 0.055793918669223785, 0.08615008741617203], \"xaxis\": \"x2\", \"y\": [\"level\", \"increase\", \"measure\", \"ability\", \"work\", \"time\", \"include\", \"tool\", \"space\", \"relationship\", \"lead\", \"try\", \"score\", \"differentiate\", \"great\", \"process\", \"impact\", \"need\", \"satisfaction\", \"employee\"], \"yaxis\": \"y2\"}, {\"name\": \"Topic-2\", \"orientation\": \"h\", \"type\": \"bar\", \"x\": [0.011784042231738567, 0.011885386891663074, 0.012055251747369766, 0.012137757614254951, 0.0165251512080431, 0.016530122607946396, 0.01779908873140812, 0.021028323099017143, 0.021250655874609947, 0.02154378779232502, 0.023315487429499626, 0.024371523410081863, 0.02735057659447193, 0.02949976921081543, 0.03637558966875076, 0.03880108892917633, 0.0457761287689209, 0.05417761206626892, 0.061144325882196426, 0.07396707683801651], \"xaxis\": \"x3\", \"y\": [\"tie\", \"include\", \"able\", \"vision\", \"support\", \"impact\", \"program\", \"shareholder\", \"content\", \"invest\", \"capture\", \"performance\", \"sale_team\", \"growth\", \"enable\", \"new\", \"customer_experience\", \"focus\", \"drive\", \"revenue\"], \"yaxis\": \"y3\"}, {\"name\": \"Topic-3\", \"orientation\": \"h\", \"type\": \"bar\", \"x\": [0.011518438346683979, 0.011565768159925938, 0.011890478432178497, 0.012169763445854187, 0.012486227788031101, 0.012521120719611645, 0.01299498975276947, 0.014112773351371288, 0.014189601875841618, 0.015793247148394585, 0.01610315591096878, 0.016597848385572433, 0.016904287040233612, 0.01757238246500492, 0.01784096471965313, 0.019364597275853157, 0.02217048592865467, 0.024602361023426056, 0.03096933104097843, 0.05603727698326111], \"xaxis\": \"x4\", \"y\": [\"kpis\", \"way\", \"create\", \"use\", \"strategy\", \"technology\", \"seller\", \"improve\", \"market\", \"thing\", \"change\", \"value\", \"plan\", \"success\", \"challenge\", \"help\", \"need\", \"metric\", \"result\", \"sale\"], \"yaxis\": \"y4\"}],\n",
       "                        {\"annotations\": [{\"font\": {\"color\": \"black\", \"size\": 12}, \"showarrow\": false, \"text\": \"Topic-0\", \"x\": 0.10625, \"xanchor\": \"center\", \"xref\": \"paper\", \"y\": 1.0, \"yanchor\": \"bottom\", \"yref\": \"paper\"}, {\"font\": {\"color\": \"black\", \"size\": 12}, \"showarrow\": false, \"text\": \"Topic-1\", \"x\": 0.36875, \"xanchor\": \"center\", \"xref\": \"paper\", \"y\": 1.0, \"yanchor\": \"bottom\", \"yref\": \"paper\"}, {\"font\": {\"color\": \"black\", \"size\": 12}, \"showarrow\": false, \"text\": \"Topic-2\", \"x\": 0.6312500000000001, \"xanchor\": \"center\", \"xref\": \"paper\", \"y\": 1.0, \"yanchor\": \"bottom\", \"yref\": \"paper\"}, {\"font\": {\"color\": \"black\", \"size\": 12}, \"showarrow\": false, \"text\": \"Topic-3\", \"x\": 0.89375, \"xanchor\": \"center\", \"xref\": \"paper\", \"y\": 1.0, \"yanchor\": \"bottom\", \"yref\": \"paper\"}], \"height\": 650, \"template\": {\"data\": {\"bar\": [{\"error_x\": {\"color\": \"#2a3f5f\"}, \"error_y\": {\"color\": \"#2a3f5f\"}, \"marker\": {\"line\": {\"color\": \"#E5ECF6\", \"width\": 0.5}}, \"type\": \"bar\"}], \"barpolar\": [{\"marker\": {\"line\": {\"color\": \"#E5ECF6\", \"width\": 0.5}}, \"type\": \"barpolar\"}], \"carpet\": [{\"aaxis\": {\"endlinecolor\": \"#2a3f5f\", \"gridcolor\": \"white\", \"linecolor\": \"white\", \"minorgridcolor\": \"white\", \"startlinecolor\": \"#2a3f5f\"}, \"baxis\": {\"endlinecolor\": \"#2a3f5f\", \"gridcolor\": \"white\", \"linecolor\": \"white\", \"minorgridcolor\": \"white\", \"startlinecolor\": \"#2a3f5f\"}, \"type\": \"carpet\"}], \"choropleth\": [{\"colorbar\": {\"outlinewidth\": 0, \"ticks\": \"\"}, \"type\": \"choropleth\"}], \"contour\": [{\"colorbar\": {\"outlinewidth\": 0, \"ticks\": \"\"}, \"colorscale\": [[0.0, \"#0d0887\"], [0.1111111111111111, \"#46039f\"], [0.2222222222222222, \"#7201a8\"], [0.3333333333333333, \"#9c179e\"], [0.4444444444444444, \"#bd3786\"], [0.5555555555555556, \"#d8576b\"], [0.6666666666666666, \"#ed7953\"], [0.7777777777777778, \"#fb9f3a\"], [0.8888888888888888, \"#fdca26\"], [1.0, \"#f0f921\"]], \"type\": \"contour\"}], \"contourcarpet\": [{\"colorbar\": {\"outlinewidth\": 0, \"ticks\": \"\"}, \"type\": \"contourcarpet\"}], \"heatmap\": [{\"colorbar\": {\"outlinewidth\": 0, \"ticks\": \"\"}, \"colorscale\": [[0.0, \"#0d0887\"], [0.1111111111111111, \"#46039f\"], [0.2222222222222222, \"#7201a8\"], [0.3333333333333333, \"#9c179e\"], [0.4444444444444444, \"#bd3786\"], [0.5555555555555556, \"#d8576b\"], [0.6666666666666666, \"#ed7953\"], [0.7777777777777778, \"#fb9f3a\"], [0.8888888888888888, \"#fdca26\"], [1.0, \"#f0f921\"]], \"type\": \"heatmap\"}], \"heatmapgl\": [{\"colorbar\": {\"outlinewidth\": 0, \"ticks\": \"\"}, \"colorscale\": [[0.0, \"#0d0887\"], [0.1111111111111111, \"#46039f\"], [0.2222222222222222, \"#7201a8\"], [0.3333333333333333, \"#9c179e\"], [0.4444444444444444, \"#bd3786\"], [0.5555555555555556, \"#d8576b\"], [0.6666666666666666, \"#ed7953\"], [0.7777777777777778, \"#fb9f3a\"], [0.8888888888888888, \"#fdca26\"], [1.0, \"#f0f921\"]], \"type\": \"heatmapgl\"}], \"histogram\": [{\"marker\": {\"colorbar\": {\"outlinewidth\": 0, \"ticks\": \"\"}}, \"type\": \"histogram\"}], \"histogram2d\": [{\"colorbar\": {\"outlinewidth\": 0, \"ticks\": \"\"}, \"colorscale\": [[0.0, \"#0d0887\"], [0.1111111111111111, \"#46039f\"], [0.2222222222222222, \"#7201a8\"], [0.3333333333333333, \"#9c179e\"], [0.4444444444444444, \"#bd3786\"], [0.5555555555555556, \"#d8576b\"], [0.6666666666666666, \"#ed7953\"], [0.7777777777777778, \"#fb9f3a\"], [0.8888888888888888, \"#fdca26\"], [1.0, \"#f0f921\"]], \"type\": \"histogram2d\"}], \"histogram2dcontour\": [{\"colorbar\": {\"outlinewidth\": 0, \"ticks\": \"\"}, \"colorscale\": [[0.0, \"#0d0887\"], [0.1111111111111111, \"#46039f\"], [0.2222222222222222, \"#7201a8\"], [0.3333333333333333, \"#9c179e\"], [0.4444444444444444, \"#bd3786\"], [0.5555555555555556, \"#d8576b\"], [0.6666666666666666, \"#ed7953\"], [0.7777777777777778, \"#fb9f3a\"], [0.8888888888888888, \"#fdca26\"], [1.0, \"#f0f921\"]], \"type\": \"histogram2dcontour\"}], \"mesh3d\": [{\"colorbar\": {\"outlinewidth\": 0, \"ticks\": \"\"}, \"type\": \"mesh3d\"}], \"parcoords\": [{\"line\": {\"colorbar\": {\"outlinewidth\": 0, \"ticks\": \"\"}}, \"type\": \"parcoords\"}], \"pie\": [{\"automargin\": true, \"type\": \"pie\"}], \"scatter\": [{\"marker\": {\"colorbar\": {\"outlinewidth\": 0, \"ticks\": \"\"}}, \"type\": \"scatter\"}], \"scatter3d\": [{\"line\": {\"colorbar\": {\"outlinewidth\": 0, \"ticks\": \"\"}}, \"marker\": {\"colorbar\": {\"outlinewidth\": 0, \"ticks\": \"\"}}, \"type\": \"scatter3d\"}], \"scattercarpet\": [{\"marker\": {\"colorbar\": {\"outlinewidth\": 0, \"ticks\": \"\"}}, \"type\": \"scattercarpet\"}], \"scattergeo\": [{\"marker\": {\"colorbar\": {\"outlinewidth\": 0, \"ticks\": \"\"}}, \"type\": \"scattergeo\"}], \"scattergl\": [{\"marker\": {\"colorbar\": {\"outlinewidth\": 0, \"ticks\": \"\"}}, \"type\": \"scattergl\"}], \"scattermapbox\": [{\"marker\": {\"colorbar\": {\"outlinewidth\": 0, \"ticks\": \"\"}}, \"type\": \"scattermapbox\"}], \"scatterpolar\": [{\"marker\": {\"colorbar\": {\"outlinewidth\": 0, \"ticks\": \"\"}}, \"type\": \"scatterpolar\"}], \"scatterpolargl\": [{\"marker\": {\"colorbar\": {\"outlinewidth\": 0, \"ticks\": \"\"}}, \"type\": \"scatterpolargl\"}], \"scatterternary\": [{\"marker\": {\"colorbar\": {\"outlinewidth\": 0, \"ticks\": \"\"}}, \"type\": \"scatterternary\"}], \"surface\": [{\"colorbar\": {\"outlinewidth\": 0, \"ticks\": \"\"}, \"colorscale\": [[0.0, \"#0d0887\"], [0.1111111111111111, \"#46039f\"], [0.2222222222222222, \"#7201a8\"], [0.3333333333333333, \"#9c179e\"], [0.4444444444444444, \"#bd3786\"], [0.5555555555555556, \"#d8576b\"], [0.6666666666666666, \"#ed7953\"], [0.7777777777777778, \"#fb9f3a\"], [0.8888888888888888, \"#fdca26\"], [1.0, \"#f0f921\"]], \"type\": \"surface\"}], \"table\": [{\"cells\": {\"fill\": {\"color\": \"#EBF0F8\"}, \"line\": {\"color\": \"white\"}}, \"header\": {\"fill\": {\"color\": \"#C8D4E3\"}, \"line\": {\"color\": \"white\"}}, \"type\": \"table\"}]}, \"layout\": {\"annotationdefaults\": {\"arrowcolor\": \"#2a3f5f\", \"arrowhead\": 0, \"arrowwidth\": 1}, \"coloraxis\": {\"colorbar\": {\"outlinewidth\": 0, \"ticks\": \"\"}}, \"colorscale\": {\"diverging\": [[0, \"#8e0152\"], [0.1, \"#c51b7d\"], [0.2, \"#de77ae\"], [0.3, \"#f1b6da\"], [0.4, \"#fde0ef\"], [0.5, \"#f7f7f7\"], [0.6, \"#e6f5d0\"], [0.7, \"#b8e186\"], [0.8, \"#7fbc41\"], [0.9, \"#4d9221\"], [1, \"#276419\"]], \"sequential\": [[0.0, \"#0d0887\"], [0.1111111111111111, \"#46039f\"], [0.2222222222222222, \"#7201a8\"], [0.3333333333333333, \"#9c179e\"], [0.4444444444444444, \"#bd3786\"], [0.5555555555555556, \"#d8576b\"], [0.6666666666666666, \"#ed7953\"], [0.7777777777777778, \"#fb9f3a\"], [0.8888888888888888, \"#fdca26\"], [1.0, \"#f0f921\"]], \"sequentialminus\": [[0.0, \"#0d0887\"], [0.1111111111111111, \"#46039f\"], [0.2222222222222222, \"#7201a8\"], [0.3333333333333333, \"#9c179e\"], [0.4444444444444444, \"#bd3786\"], [0.5555555555555556, \"#d8576b\"], [0.6666666666666666, \"#ed7953\"], [0.7777777777777778, \"#fb9f3a\"], [0.8888888888888888, \"#fdca26\"], [1.0, \"#f0f921\"]]}, \"colorway\": [\"#636efa\", \"#EF553B\", \"#00cc96\", \"#ab63fa\", \"#FFA15A\", \"#19d3f3\", \"#FF6692\", \"#B6E880\", \"#FF97FF\", \"#FECB52\"], \"font\": {\"color\": \"#2a3f5f\"}, \"geo\": {\"bgcolor\": \"white\", \"lakecolor\": \"white\", \"landcolor\": \"#E5ECF6\", \"showlakes\": true, \"showland\": true, \"subunitcolor\": \"white\"}, \"hoverlabel\": {\"align\": \"left\"}, \"hovermode\": \"closest\", \"mapbox\": {\"style\": \"light\"}, \"paper_bgcolor\": \"white\", \"plot_bgcolor\": \"#E5ECF6\", \"polar\": {\"angularaxis\": {\"gridcolor\": \"white\", \"linecolor\": \"white\", \"ticks\": \"\"}, \"bgcolor\": \"#E5ECF6\", \"radialaxis\": {\"gridcolor\": \"white\", \"linecolor\": \"white\", \"ticks\": \"\"}}, \"scene\": {\"xaxis\": {\"backgroundcolor\": \"#E5ECF6\", \"gridcolor\": \"white\", \"gridwidth\": 2, \"linecolor\": \"white\", \"showbackground\": true, \"ticks\": \"\", \"zerolinecolor\": \"white\"}, \"yaxis\": {\"backgroundcolor\": \"#E5ECF6\", \"gridcolor\": \"white\", \"gridwidth\": 2, \"linecolor\": \"white\", \"showbackground\": true, \"ticks\": \"\", \"zerolinecolor\": \"white\"}, \"zaxis\": {\"backgroundcolor\": \"#E5ECF6\", \"gridcolor\": \"white\", \"gridwidth\": 2, \"linecolor\": \"white\", \"showbackground\": true, \"ticks\": \"\", \"zerolinecolor\": \"white\"}}, \"shapedefaults\": {\"line\": {\"color\": \"#2a3f5f\"}}, \"ternary\": {\"aaxis\": {\"gridcolor\": \"white\", \"linecolor\": \"white\", \"ticks\": \"\"}, \"baxis\": {\"gridcolor\": \"white\", \"linecolor\": \"white\", \"ticks\": \"\"}, \"bgcolor\": \"#E5ECF6\", \"caxis\": {\"gridcolor\": \"white\", \"linecolor\": \"white\", \"ticks\": \"\"}}, \"title\": {\"x\": 0.05}, \"xaxis\": {\"automargin\": true, \"gridcolor\": \"white\", \"linecolor\": \"white\", \"ticks\": \"\", \"title\": {\"standoff\": 15}, \"zerolinecolor\": \"white\", \"zerolinewidth\": 2}, \"yaxis\": {\"automargin\": true, \"gridcolor\": \"white\", \"linecolor\": \"white\", \"ticks\": \"\", \"title\": {\"standoff\": 15}, \"zerolinecolor\": \"white\", \"zerolinewidth\": 2}}}, \"title\": {\"text\": \"Top Keywords per Topic<br>ques : letter_to_shareholders\", \"x\": 0.5, \"xanchor\": \"center\", \"y\": 0.9, \"yanchor\": \"top\"}, \"width\": 1400, \"xaxis\": {\"anchor\": \"y\", \"domain\": [0.0, 0.2125], \"title\": {\"text\": \"keyword weight\"}}, \"xaxis2\": {\"anchor\": \"y2\", \"domain\": [0.2625, 0.475]}, \"xaxis3\": {\"anchor\": \"y3\", \"domain\": [0.525, 0.7375]}, \"xaxis4\": {\"anchor\": \"y4\", \"domain\": [0.7875, 1.0]}, \"yaxis\": {\"anchor\": \"x\", \"domain\": [0.0, 1.0]}, \"yaxis2\": {\"anchor\": \"x2\", \"domain\": [0.0, 1.0]}, \"yaxis3\": {\"anchor\": \"x3\", \"domain\": [0.0, 1.0]}, \"yaxis4\": {\"anchor\": \"x4\", \"domain\": [0.0, 1.0]}},\n",
       "                        {\"responsive\": true}\n",
       "                    ).then(function(){\n",
       "                            \n",
       "var gd = document.getElementById('39fe3ac4-bbb4-4518-b41b-8adf7e003408');\n",
       "var x = new MutationObserver(function (mutations, observer) {{\n",
       "        var display = window.getComputedStyle(gd).display;\n",
       "        if (!display || display === 'none') {{\n",
       "            console.log([gd, 'removed!']);\n",
       "            Plotly.purge(gd);\n",
       "            observer.disconnect();\n",
       "        }}\n",
       "}});\n",
       "\n",
       "// Listen for the removal of the full notebook cells\n",
       "var notebookContainer = gd.closest('#notebook-container');\n",
       "if (notebookContainer) {{\n",
       "    x.observe(notebookContainer, {childList: true});\n",
       "}}\n",
       "\n",
       "// Listen for the clearing of the current output cell\n",
       "var outputEl = gd.closest('.output');\n",
       "if (outputEl) {{\n",
       "    x.observe(outputEl, {childList: true});\n",
       "}}\n",
       "\n",
       "                        })\n",
       "                };\n",
       "                });\n",
       "            </script>\n",
       "        </div>"
      ]
     },
     "metadata": {},
     "output_type": "display_data"
    }
   ],
   "source": [
    "#num_words = 20\n",
    "#print_gensim_lda_topics( model=optimal_model, num_words=num_words, verbose=True )\n",
    "# top kw per topics\n",
    "model = optimal_model\n",
    "plot_spacy_topic_kws_simple(model=optimal_model, id2word_dict=id2word_dict, col_main=col_main, topN=topN_kw, \n",
    "                            use_topic_name=use_topic_name, dict_topic_mapper=dict_topic_mapper,\n",
    "                            graph_width=1400, graph_height=650,\n",
    "                            offset_path=offset_path, im_path=IMAGE_PATH, \n",
    "                            save_plot=save_plot, show_plot=show_plot, save_html=save_html )"
   ]
  },
  {
   "cell_type": "code",
   "execution_count": null,
   "metadata": {},
   "outputs": [],
   "source": []
  },
  {
   "cell_type": "markdown",
   "metadata": {},
   "source": [
    "### Statistical info"
   ]
  },
  {
   "cell_type": "markdown",
   "metadata": {},
   "source": [
    "This graph shows the decorrelation of topics i.e how well separated or distinguishable are topic from each other.\n",
    "* <span style=\"color:red\">red color</span> : complete overlap, not favorable\n",
    "* <span style=\"color:dark blue\">dark blue</span> : 0 overlap, identified topics are of good quality"
   ]
  },
  {
   "cell_type": "code",
   "execution_count": 31,
   "metadata": {},
   "outputs": [
    {
     "data": {
      "application/vnd.plotly.v1+json": {
       "config": {
        "plotlyServerURL": "https://plot.ly"
       },
       "data": [
        {
         "colorscale": [
          [
           0,
           "rgb(103,0,31)"
          ],
          [
           0.1,
           "rgb(178,24,43)"
          ],
          [
           0.2,
           "rgb(214,96,77)"
          ],
          [
           0.3,
           "rgb(244,165,130)"
          ],
          [
           0.4,
           "rgb(253,219,199)"
          ],
          [
           0.5,
           "rgb(247,247,247)"
          ],
          [
           0.6,
           "rgb(209,229,240)"
          ],
          [
           0.7,
           "rgb(146,197,222)"
          ],
          [
           0.8,
           "rgb(67,147,195)"
          ],
          [
           0.9,
           "rgb(33,102,172)"
          ],
          [
           1,
           "rgb(5,48,97)"
          ]
         ],
         "name": "Topic Diff",
         "showlegend": true,
         "text": [
          [
           "+++ close, term, win, feedback, influence, kpi, measurable, activity, deal, rate<br>--- ",
           "+++ <br>--- close, win, increase, clear, ability, focus, relationship, tool, impact, differentiate",
           "+++ focus<br>--- able, support, close, win, revenue, vision, new, clear, growth, shareholder",
           "+++ <br>--- success, close, win, kpis, change, improve, way, clear, focus, seller"
          ],
          [
           "+++ <br>--- close, win, increase, clear, ability, focus, relationship, tool, impact, differentiate",
           "+++ time, need, increase, space, ability, try, employee, relationship, tool, score<br>--- ",
           "+++ include, impact<br>--- able, support, revenue, increase, vision, new, growth, ability, shareholder, enable",
           "+++ need<br>--- success, kpis, change, increase, improve, way, ability, relationship, tool, impact"
          ],
          [
           "+++ focus<br>--- able, support, close, win, revenue, vision, new, clear, growth, shareholder",
           "+++ include, impact<br>--- able, support, revenue, increase, vision, new, growth, ability, shareholder, enable",
           "+++ able, support, revenue, performance, program, vision, new, capture, growth, sale_team<br>--- ",
           "+++ <br>--- success, able, support, kpis, change, revenue, improve, vision, new, way"
          ],
          [
           "+++ <br>--- success, close, win, kpis, change, improve, way, clear, focus, seller",
           "+++ need<br>--- success, kpis, change, increase, improve, way, ability, relationship, tool, impact",
           "+++ <br>--- able, success, support, kpis, revenue, change, improve, vision, new, way",
           "+++ success, kpis, change, market, need, technology, result, improve, plan, way<br>--- "
          ]
         ],
         "type": "heatmap",
         "z": [
          [
           0,
           1,
           0.9743589743589743,
           1
          ],
          [
           1,
           0,
           0.9473684210526316,
           0.9743589743589743
          ],
          [
           0.9743589743589743,
           0.9473684210526316,
           0,
           1
          ],
          [
           1,
           0.9743589743589743,
           1,
           0
          ]
         ]
        }
       ],
       "layout": {
        "height": 600,
        "template": {
         "data": {
          "bar": [
           {
            "error_x": {
             "color": "#2a3f5f"
            },
            "error_y": {
             "color": "#2a3f5f"
            },
            "marker": {
             "line": {
              "color": "#E5ECF6",
              "width": 0.5
             }
            },
            "type": "bar"
           }
          ],
          "barpolar": [
           {
            "marker": {
             "line": {
              "color": "#E5ECF6",
              "width": 0.5
             }
            },
            "type": "barpolar"
           }
          ],
          "carpet": [
           {
            "aaxis": {
             "endlinecolor": "#2a3f5f",
             "gridcolor": "white",
             "linecolor": "white",
             "minorgridcolor": "white",
             "startlinecolor": "#2a3f5f"
            },
            "baxis": {
             "endlinecolor": "#2a3f5f",
             "gridcolor": "white",
             "linecolor": "white",
             "minorgridcolor": "white",
             "startlinecolor": "#2a3f5f"
            },
            "type": "carpet"
           }
          ],
          "choropleth": [
           {
            "colorbar": {
             "outlinewidth": 0,
             "ticks": ""
            },
            "type": "choropleth"
           }
          ],
          "contour": [
           {
            "colorbar": {
             "outlinewidth": 0,
             "ticks": ""
            },
            "colorscale": [
             [
              0,
              "#0d0887"
             ],
             [
              0.1111111111111111,
              "#46039f"
             ],
             [
              0.2222222222222222,
              "#7201a8"
             ],
             [
              0.3333333333333333,
              "#9c179e"
             ],
             [
              0.4444444444444444,
              "#bd3786"
             ],
             [
              0.5555555555555556,
              "#d8576b"
             ],
             [
              0.6666666666666666,
              "#ed7953"
             ],
             [
              0.7777777777777778,
              "#fb9f3a"
             ],
             [
              0.8888888888888888,
              "#fdca26"
             ],
             [
              1,
              "#f0f921"
             ]
            ],
            "type": "contour"
           }
          ],
          "contourcarpet": [
           {
            "colorbar": {
             "outlinewidth": 0,
             "ticks": ""
            },
            "type": "contourcarpet"
           }
          ],
          "heatmap": [
           {
            "colorbar": {
             "outlinewidth": 0,
             "ticks": ""
            },
            "colorscale": [
             [
              0,
              "#0d0887"
             ],
             [
              0.1111111111111111,
              "#46039f"
             ],
             [
              0.2222222222222222,
              "#7201a8"
             ],
             [
              0.3333333333333333,
              "#9c179e"
             ],
             [
              0.4444444444444444,
              "#bd3786"
             ],
             [
              0.5555555555555556,
              "#d8576b"
             ],
             [
              0.6666666666666666,
              "#ed7953"
             ],
             [
              0.7777777777777778,
              "#fb9f3a"
             ],
             [
              0.8888888888888888,
              "#fdca26"
             ],
             [
              1,
              "#f0f921"
             ]
            ],
            "type": "heatmap"
           }
          ],
          "heatmapgl": [
           {
            "colorbar": {
             "outlinewidth": 0,
             "ticks": ""
            },
            "colorscale": [
             [
              0,
              "#0d0887"
             ],
             [
              0.1111111111111111,
              "#46039f"
             ],
             [
              0.2222222222222222,
              "#7201a8"
             ],
             [
              0.3333333333333333,
              "#9c179e"
             ],
             [
              0.4444444444444444,
              "#bd3786"
             ],
             [
              0.5555555555555556,
              "#d8576b"
             ],
             [
              0.6666666666666666,
              "#ed7953"
             ],
             [
              0.7777777777777778,
              "#fb9f3a"
             ],
             [
              0.8888888888888888,
              "#fdca26"
             ],
             [
              1,
              "#f0f921"
             ]
            ],
            "type": "heatmapgl"
           }
          ],
          "histogram": [
           {
            "marker": {
             "colorbar": {
              "outlinewidth": 0,
              "ticks": ""
             }
            },
            "type": "histogram"
           }
          ],
          "histogram2d": [
           {
            "colorbar": {
             "outlinewidth": 0,
             "ticks": ""
            },
            "colorscale": [
             [
              0,
              "#0d0887"
             ],
             [
              0.1111111111111111,
              "#46039f"
             ],
             [
              0.2222222222222222,
              "#7201a8"
             ],
             [
              0.3333333333333333,
              "#9c179e"
             ],
             [
              0.4444444444444444,
              "#bd3786"
             ],
             [
              0.5555555555555556,
              "#d8576b"
             ],
             [
              0.6666666666666666,
              "#ed7953"
             ],
             [
              0.7777777777777778,
              "#fb9f3a"
             ],
             [
              0.8888888888888888,
              "#fdca26"
             ],
             [
              1,
              "#f0f921"
             ]
            ],
            "type": "histogram2d"
           }
          ],
          "histogram2dcontour": [
           {
            "colorbar": {
             "outlinewidth": 0,
             "ticks": ""
            },
            "colorscale": [
             [
              0,
              "#0d0887"
             ],
             [
              0.1111111111111111,
              "#46039f"
             ],
             [
              0.2222222222222222,
              "#7201a8"
             ],
             [
              0.3333333333333333,
              "#9c179e"
             ],
             [
              0.4444444444444444,
              "#bd3786"
             ],
             [
              0.5555555555555556,
              "#d8576b"
             ],
             [
              0.6666666666666666,
              "#ed7953"
             ],
             [
              0.7777777777777778,
              "#fb9f3a"
             ],
             [
              0.8888888888888888,
              "#fdca26"
             ],
             [
              1,
              "#f0f921"
             ]
            ],
            "type": "histogram2dcontour"
           }
          ],
          "mesh3d": [
           {
            "colorbar": {
             "outlinewidth": 0,
             "ticks": ""
            },
            "type": "mesh3d"
           }
          ],
          "parcoords": [
           {
            "line": {
             "colorbar": {
              "outlinewidth": 0,
              "ticks": ""
             }
            },
            "type": "parcoords"
           }
          ],
          "pie": [
           {
            "automargin": true,
            "type": "pie"
           }
          ],
          "scatter": [
           {
            "marker": {
             "colorbar": {
              "outlinewidth": 0,
              "ticks": ""
             }
            },
            "type": "scatter"
           }
          ],
          "scatter3d": [
           {
            "line": {
             "colorbar": {
              "outlinewidth": 0,
              "ticks": ""
             }
            },
            "marker": {
             "colorbar": {
              "outlinewidth": 0,
              "ticks": ""
             }
            },
            "type": "scatter3d"
           }
          ],
          "scattercarpet": [
           {
            "marker": {
             "colorbar": {
              "outlinewidth": 0,
              "ticks": ""
             }
            },
            "type": "scattercarpet"
           }
          ],
          "scattergeo": [
           {
            "marker": {
             "colorbar": {
              "outlinewidth": 0,
              "ticks": ""
             }
            },
            "type": "scattergeo"
           }
          ],
          "scattergl": [
           {
            "marker": {
             "colorbar": {
              "outlinewidth": 0,
              "ticks": ""
             }
            },
            "type": "scattergl"
           }
          ],
          "scattermapbox": [
           {
            "marker": {
             "colorbar": {
              "outlinewidth": 0,
              "ticks": ""
             }
            },
            "type": "scattermapbox"
           }
          ],
          "scatterpolar": [
           {
            "marker": {
             "colorbar": {
              "outlinewidth": 0,
              "ticks": ""
             }
            },
            "type": "scatterpolar"
           }
          ],
          "scatterpolargl": [
           {
            "marker": {
             "colorbar": {
              "outlinewidth": 0,
              "ticks": ""
             }
            },
            "type": "scatterpolargl"
           }
          ],
          "scatterternary": [
           {
            "marker": {
             "colorbar": {
              "outlinewidth": 0,
              "ticks": ""
             }
            },
            "type": "scatterternary"
           }
          ],
          "surface": [
           {
            "colorbar": {
             "outlinewidth": 0,
             "ticks": ""
            },
            "colorscale": [
             [
              0,
              "#0d0887"
             ],
             [
              0.1111111111111111,
              "#46039f"
             ],
             [
              0.2222222222222222,
              "#7201a8"
             ],
             [
              0.3333333333333333,
              "#9c179e"
             ],
             [
              0.4444444444444444,
              "#bd3786"
             ],
             [
              0.5555555555555556,
              "#d8576b"
             ],
             [
              0.6666666666666666,
              "#ed7953"
             ],
             [
              0.7777777777777778,
              "#fb9f3a"
             ],
             [
              0.8888888888888888,
              "#fdca26"
             ],
             [
              1,
              "#f0f921"
             ]
            ],
            "type": "surface"
           }
          ],
          "table": [
           {
            "cells": {
             "fill": {
              "color": "#EBF0F8"
             },
             "line": {
              "color": "white"
             }
            },
            "header": {
             "fill": {
              "color": "#C8D4E3"
             },
             "line": {
              "color": "white"
             }
            },
            "type": "table"
           }
          ]
         },
         "layout": {
          "annotationdefaults": {
           "arrowcolor": "#2a3f5f",
           "arrowhead": 0,
           "arrowwidth": 1
          },
          "coloraxis": {
           "colorbar": {
            "outlinewidth": 0,
            "ticks": ""
           }
          },
          "colorscale": {
           "diverging": [
            [
             0,
             "#8e0152"
            ],
            [
             0.1,
             "#c51b7d"
            ],
            [
             0.2,
             "#de77ae"
            ],
            [
             0.3,
             "#f1b6da"
            ],
            [
             0.4,
             "#fde0ef"
            ],
            [
             0.5,
             "#f7f7f7"
            ],
            [
             0.6,
             "#e6f5d0"
            ],
            [
             0.7,
             "#b8e186"
            ],
            [
             0.8,
             "#7fbc41"
            ],
            [
             0.9,
             "#4d9221"
            ],
            [
             1,
             "#276419"
            ]
           ],
           "sequential": [
            [
             0,
             "#0d0887"
            ],
            [
             0.1111111111111111,
             "#46039f"
            ],
            [
             0.2222222222222222,
             "#7201a8"
            ],
            [
             0.3333333333333333,
             "#9c179e"
            ],
            [
             0.4444444444444444,
             "#bd3786"
            ],
            [
             0.5555555555555556,
             "#d8576b"
            ],
            [
             0.6666666666666666,
             "#ed7953"
            ],
            [
             0.7777777777777778,
             "#fb9f3a"
            ],
            [
             0.8888888888888888,
             "#fdca26"
            ],
            [
             1,
             "#f0f921"
            ]
           ],
           "sequentialminus": [
            [
             0,
             "#0d0887"
            ],
            [
             0.1111111111111111,
             "#46039f"
            ],
            [
             0.2222222222222222,
             "#7201a8"
            ],
            [
             0.3333333333333333,
             "#9c179e"
            ],
            [
             0.4444444444444444,
             "#bd3786"
            ],
            [
             0.5555555555555556,
             "#d8576b"
            ],
            [
             0.6666666666666666,
             "#ed7953"
            ],
            [
             0.7777777777777778,
             "#fb9f3a"
            ],
            [
             0.8888888888888888,
             "#fdca26"
            ],
            [
             1,
             "#f0f921"
            ]
           ]
          },
          "colorway": [
           "#636efa",
           "#EF553B",
           "#00cc96",
           "#ab63fa",
           "#FFA15A",
           "#19d3f3",
           "#FF6692",
           "#B6E880",
           "#FF97FF",
           "#FECB52"
          ],
          "font": {
           "color": "#2a3f5f"
          },
          "geo": {
           "bgcolor": "white",
           "lakecolor": "white",
           "landcolor": "#E5ECF6",
           "showlakes": true,
           "showland": true,
           "subunitcolor": "white"
          },
          "hoverlabel": {
           "align": "left"
          },
          "hovermode": "closest",
          "mapbox": {
           "style": "light"
          },
          "paper_bgcolor": "white",
          "plot_bgcolor": "#E5ECF6",
          "polar": {
           "angularaxis": {
            "gridcolor": "white",
            "linecolor": "white",
            "ticks": ""
           },
           "bgcolor": "#E5ECF6",
           "radialaxis": {
            "gridcolor": "white",
            "linecolor": "white",
            "ticks": ""
           }
          },
          "scene": {
           "xaxis": {
            "backgroundcolor": "#E5ECF6",
            "gridcolor": "white",
            "gridwidth": 2,
            "linecolor": "white",
            "showbackground": true,
            "ticks": "",
            "zerolinecolor": "white"
           },
           "yaxis": {
            "backgroundcolor": "#E5ECF6",
            "gridcolor": "white",
            "gridwidth": 2,
            "linecolor": "white",
            "showbackground": true,
            "ticks": "",
            "zerolinecolor": "white"
           },
           "zaxis": {
            "backgroundcolor": "#E5ECF6",
            "gridcolor": "white",
            "gridwidth": 2,
            "linecolor": "white",
            "showbackground": true,
            "ticks": "",
            "zerolinecolor": "white"
           }
          },
          "shapedefaults": {
           "line": {
            "color": "#2a3f5f"
           }
          },
          "ternary": {
           "aaxis": {
            "gridcolor": "white",
            "linecolor": "white",
            "ticks": ""
           },
           "baxis": {
            "gridcolor": "white",
            "linecolor": "white",
            "ticks": ""
           },
           "bgcolor": "#E5ECF6",
           "caxis": {
            "gridcolor": "white",
            "linecolor": "white",
            "ticks": ""
           }
          },
          "title": {
           "x": 0.05
          },
          "xaxis": {
           "automargin": true,
           "gridcolor": "white",
           "linecolor": "white",
           "ticks": "",
           "title": {
            "standoff": 15
           },
           "zerolinecolor": "white",
           "zerolinewidth": 2
          },
          "yaxis": {
           "automargin": true,
           "gridcolor": "white",
           "linecolor": "white",
           "ticks": "",
           "title": {
            "standoff": 15
           },
           "zerolinecolor": "white",
           "zerolinewidth": 2
          }
         }
        },
        "title": {
         "text": "Topic difference [jaccard distance]<br>ques : letter_to_shareholders",
         "x": 0.5,
         "xanchor": "center",
         "y": 0.9,
         "yanchor": "top"
        },
        "width": 800,
        "xaxis": {
         "ticktext": [
          "Topic-0",
          "Topic-1",
          "Topic-2",
          "Topic-3"
         ],
         "tickvals": [
          0,
          1,
          2,
          3
         ],
         "title": {
          "text": "topic"
         }
        },
        "yaxis": {
         "ticktext": [
          "Topic-0",
          "Topic-1",
          "Topic-2",
          "Topic-3"
         ],
         "tickvals": [
          0,
          1,
          2,
          3
         ],
         "title": {
          "text": "topic"
         }
        }
       }
      },
      "text/html": [
       "<div>\n",
       "        \n",
       "        \n",
       "            <div id=\"4cd4bec6-217e-47aa-97f1-1f153079a9a7\" class=\"plotly-graph-div\" style=\"height:600px; width:800px;\"></div>\n",
       "            <script type=\"text/javascript\">\n",
       "                require([\"plotly\"], function(Plotly) {\n",
       "                    window.PLOTLYENV=window.PLOTLYENV || {};\n",
       "                    \n",
       "                if (document.getElementById(\"4cd4bec6-217e-47aa-97f1-1f153079a9a7\")) {\n",
       "                    Plotly.newPlot(\n",
       "                        '4cd4bec6-217e-47aa-97f1-1f153079a9a7',\n",
       "                        [{\"colorscale\": [[0.0, \"rgb(103,0,31)\"], [0.1, \"rgb(178,24,43)\"], [0.2, \"rgb(214,96,77)\"], [0.3, \"rgb(244,165,130)\"], [0.4, \"rgb(253,219,199)\"], [0.5, \"rgb(247,247,247)\"], [0.6, \"rgb(209,229,240)\"], [0.7, \"rgb(146,197,222)\"], [0.8, \"rgb(67,147,195)\"], [0.9, \"rgb(33,102,172)\"], [1.0, \"rgb(5,48,97)\"]], \"name\": \"Topic Diff\", \"showlegend\": true, \"text\": [[\"+++ close, term, win, feedback, influence, kpi, measurable, activity, deal, rate<br>--- \", \"+++ <br>--- close, win, increase, clear, ability, focus, relationship, tool, impact, differentiate\", \"+++ focus<br>--- able, support, close, win, revenue, vision, new, clear, growth, shareholder\", \"+++ <br>--- success, close, win, kpis, change, improve, way, clear, focus, seller\"], [\"+++ <br>--- close, win, increase, clear, ability, focus, relationship, tool, impact, differentiate\", \"+++ time, need, increase, space, ability, try, employee, relationship, tool, score<br>--- \", \"+++ include, impact<br>--- able, support, revenue, increase, vision, new, growth, ability, shareholder, enable\", \"+++ need<br>--- success, kpis, change, increase, improve, way, ability, relationship, tool, impact\"], [\"+++ focus<br>--- able, support, close, win, revenue, vision, new, clear, growth, shareholder\", \"+++ include, impact<br>--- able, support, revenue, increase, vision, new, growth, ability, shareholder, enable\", \"+++ able, support, revenue, performance, program, vision, new, capture, growth, sale_team<br>--- \", \"+++ <br>--- success, able, support, kpis, change, revenue, improve, vision, new, way\"], [\"+++ <br>--- success, close, win, kpis, change, improve, way, clear, focus, seller\", \"+++ need<br>--- success, kpis, change, increase, improve, way, ability, relationship, tool, impact\", \"+++ <br>--- able, success, support, kpis, revenue, change, improve, vision, new, way\", \"+++ success, kpis, change, market, need, technology, result, improve, plan, way<br>--- \"]], \"type\": \"heatmap\", \"z\": [[0.0, 1.0, 0.9743589743589743, 1.0], [1.0, 0.0, 0.9473684210526316, 0.9743589743589743], [0.9743589743589743, 0.9473684210526316, 0.0, 1.0], [1.0, 0.9743589743589743, 1.0, 0.0]]}],\n",
       "                        {\"height\": 600, \"template\": {\"data\": {\"bar\": [{\"error_x\": {\"color\": \"#2a3f5f\"}, \"error_y\": {\"color\": \"#2a3f5f\"}, \"marker\": {\"line\": {\"color\": \"#E5ECF6\", \"width\": 0.5}}, \"type\": \"bar\"}], \"barpolar\": [{\"marker\": {\"line\": {\"color\": \"#E5ECF6\", \"width\": 0.5}}, \"type\": \"barpolar\"}], \"carpet\": [{\"aaxis\": {\"endlinecolor\": \"#2a3f5f\", \"gridcolor\": \"white\", \"linecolor\": \"white\", \"minorgridcolor\": \"white\", \"startlinecolor\": \"#2a3f5f\"}, \"baxis\": {\"endlinecolor\": \"#2a3f5f\", \"gridcolor\": \"white\", \"linecolor\": \"white\", \"minorgridcolor\": \"white\", \"startlinecolor\": \"#2a3f5f\"}, \"type\": \"carpet\"}], \"choropleth\": [{\"colorbar\": {\"outlinewidth\": 0, \"ticks\": \"\"}, \"type\": \"choropleth\"}], \"contour\": [{\"colorbar\": {\"outlinewidth\": 0, \"ticks\": \"\"}, \"colorscale\": [[0.0, \"#0d0887\"], [0.1111111111111111, \"#46039f\"], [0.2222222222222222, \"#7201a8\"], [0.3333333333333333, \"#9c179e\"], [0.4444444444444444, \"#bd3786\"], [0.5555555555555556, \"#d8576b\"], [0.6666666666666666, \"#ed7953\"], [0.7777777777777778, \"#fb9f3a\"], [0.8888888888888888, \"#fdca26\"], [1.0, \"#f0f921\"]], \"type\": \"contour\"}], \"contourcarpet\": [{\"colorbar\": {\"outlinewidth\": 0, \"ticks\": \"\"}, \"type\": \"contourcarpet\"}], \"heatmap\": [{\"colorbar\": {\"outlinewidth\": 0, \"ticks\": \"\"}, \"colorscale\": [[0.0, \"#0d0887\"], [0.1111111111111111, \"#46039f\"], [0.2222222222222222, \"#7201a8\"], [0.3333333333333333, \"#9c179e\"], [0.4444444444444444, \"#bd3786\"], [0.5555555555555556, \"#d8576b\"], [0.6666666666666666, \"#ed7953\"], [0.7777777777777778, \"#fb9f3a\"], [0.8888888888888888, \"#fdca26\"], [1.0, \"#f0f921\"]], \"type\": \"heatmap\"}], \"heatmapgl\": [{\"colorbar\": {\"outlinewidth\": 0, \"ticks\": \"\"}, \"colorscale\": [[0.0, \"#0d0887\"], [0.1111111111111111, \"#46039f\"], [0.2222222222222222, \"#7201a8\"], [0.3333333333333333, \"#9c179e\"], [0.4444444444444444, \"#bd3786\"], [0.5555555555555556, \"#d8576b\"], [0.6666666666666666, \"#ed7953\"], [0.7777777777777778, \"#fb9f3a\"], [0.8888888888888888, \"#fdca26\"], [1.0, \"#f0f921\"]], \"type\": \"heatmapgl\"}], \"histogram\": [{\"marker\": {\"colorbar\": {\"outlinewidth\": 0, \"ticks\": \"\"}}, \"type\": \"histogram\"}], \"histogram2d\": [{\"colorbar\": {\"outlinewidth\": 0, \"ticks\": \"\"}, \"colorscale\": [[0.0, \"#0d0887\"], [0.1111111111111111, \"#46039f\"], [0.2222222222222222, \"#7201a8\"], [0.3333333333333333, \"#9c179e\"], [0.4444444444444444, \"#bd3786\"], [0.5555555555555556, \"#d8576b\"], [0.6666666666666666, \"#ed7953\"], [0.7777777777777778, \"#fb9f3a\"], [0.8888888888888888, \"#fdca26\"], [1.0, \"#f0f921\"]], \"type\": \"histogram2d\"}], \"histogram2dcontour\": [{\"colorbar\": {\"outlinewidth\": 0, \"ticks\": \"\"}, \"colorscale\": [[0.0, \"#0d0887\"], [0.1111111111111111, \"#46039f\"], [0.2222222222222222, \"#7201a8\"], [0.3333333333333333, \"#9c179e\"], [0.4444444444444444, \"#bd3786\"], [0.5555555555555556, \"#d8576b\"], [0.6666666666666666, \"#ed7953\"], [0.7777777777777778, \"#fb9f3a\"], [0.8888888888888888, \"#fdca26\"], [1.0, \"#f0f921\"]], \"type\": \"histogram2dcontour\"}], \"mesh3d\": [{\"colorbar\": {\"outlinewidth\": 0, \"ticks\": \"\"}, \"type\": \"mesh3d\"}], \"parcoords\": [{\"line\": {\"colorbar\": {\"outlinewidth\": 0, \"ticks\": \"\"}}, \"type\": \"parcoords\"}], \"pie\": [{\"automargin\": true, \"type\": \"pie\"}], \"scatter\": [{\"marker\": {\"colorbar\": {\"outlinewidth\": 0, \"ticks\": \"\"}}, \"type\": \"scatter\"}], \"scatter3d\": [{\"line\": {\"colorbar\": {\"outlinewidth\": 0, \"ticks\": \"\"}}, \"marker\": {\"colorbar\": {\"outlinewidth\": 0, \"ticks\": \"\"}}, \"type\": \"scatter3d\"}], \"scattercarpet\": [{\"marker\": {\"colorbar\": {\"outlinewidth\": 0, \"ticks\": \"\"}}, \"type\": \"scattercarpet\"}], \"scattergeo\": [{\"marker\": {\"colorbar\": {\"outlinewidth\": 0, \"ticks\": \"\"}}, \"type\": \"scattergeo\"}], \"scattergl\": [{\"marker\": {\"colorbar\": {\"outlinewidth\": 0, \"ticks\": \"\"}}, \"type\": \"scattergl\"}], \"scattermapbox\": [{\"marker\": {\"colorbar\": {\"outlinewidth\": 0, \"ticks\": \"\"}}, \"type\": \"scattermapbox\"}], \"scatterpolar\": [{\"marker\": {\"colorbar\": {\"outlinewidth\": 0, \"ticks\": \"\"}}, \"type\": \"scatterpolar\"}], \"scatterpolargl\": [{\"marker\": {\"colorbar\": {\"outlinewidth\": 0, \"ticks\": \"\"}}, \"type\": \"scatterpolargl\"}], \"scatterternary\": [{\"marker\": {\"colorbar\": {\"outlinewidth\": 0, \"ticks\": \"\"}}, \"type\": \"scatterternary\"}], \"surface\": [{\"colorbar\": {\"outlinewidth\": 0, \"ticks\": \"\"}, \"colorscale\": [[0.0, \"#0d0887\"], [0.1111111111111111, \"#46039f\"], [0.2222222222222222, \"#7201a8\"], [0.3333333333333333, \"#9c179e\"], [0.4444444444444444, \"#bd3786\"], [0.5555555555555556, \"#d8576b\"], [0.6666666666666666, \"#ed7953\"], [0.7777777777777778, \"#fb9f3a\"], [0.8888888888888888, \"#fdca26\"], [1.0, \"#f0f921\"]], \"type\": \"surface\"}], \"table\": [{\"cells\": {\"fill\": {\"color\": \"#EBF0F8\"}, \"line\": {\"color\": \"white\"}}, \"header\": {\"fill\": {\"color\": \"#C8D4E3\"}, \"line\": {\"color\": \"white\"}}, \"type\": \"table\"}]}, \"layout\": {\"annotationdefaults\": {\"arrowcolor\": \"#2a3f5f\", \"arrowhead\": 0, \"arrowwidth\": 1}, \"coloraxis\": {\"colorbar\": {\"outlinewidth\": 0, \"ticks\": \"\"}}, \"colorscale\": {\"diverging\": [[0, \"#8e0152\"], [0.1, \"#c51b7d\"], [0.2, \"#de77ae\"], [0.3, \"#f1b6da\"], [0.4, \"#fde0ef\"], [0.5, \"#f7f7f7\"], [0.6, \"#e6f5d0\"], [0.7, \"#b8e186\"], [0.8, \"#7fbc41\"], [0.9, \"#4d9221\"], [1, \"#276419\"]], \"sequential\": [[0.0, \"#0d0887\"], [0.1111111111111111, \"#46039f\"], [0.2222222222222222, \"#7201a8\"], [0.3333333333333333, \"#9c179e\"], [0.4444444444444444, \"#bd3786\"], [0.5555555555555556, \"#d8576b\"], [0.6666666666666666, \"#ed7953\"], [0.7777777777777778, \"#fb9f3a\"], [0.8888888888888888, \"#fdca26\"], [1.0, \"#f0f921\"]], \"sequentialminus\": [[0.0, \"#0d0887\"], [0.1111111111111111, \"#46039f\"], [0.2222222222222222, \"#7201a8\"], [0.3333333333333333, \"#9c179e\"], [0.4444444444444444, \"#bd3786\"], [0.5555555555555556, \"#d8576b\"], [0.6666666666666666, \"#ed7953\"], [0.7777777777777778, \"#fb9f3a\"], [0.8888888888888888, \"#fdca26\"], [1.0, \"#f0f921\"]]}, \"colorway\": [\"#636efa\", \"#EF553B\", \"#00cc96\", \"#ab63fa\", \"#FFA15A\", \"#19d3f3\", \"#FF6692\", \"#B6E880\", \"#FF97FF\", \"#FECB52\"], \"font\": {\"color\": \"#2a3f5f\"}, \"geo\": {\"bgcolor\": \"white\", \"lakecolor\": \"white\", \"landcolor\": \"#E5ECF6\", \"showlakes\": true, \"showland\": true, \"subunitcolor\": \"white\"}, \"hoverlabel\": {\"align\": \"left\"}, \"hovermode\": \"closest\", \"mapbox\": {\"style\": \"light\"}, \"paper_bgcolor\": \"white\", \"plot_bgcolor\": \"#E5ECF6\", \"polar\": {\"angularaxis\": {\"gridcolor\": \"white\", \"linecolor\": \"white\", \"ticks\": \"\"}, \"bgcolor\": \"#E5ECF6\", \"radialaxis\": {\"gridcolor\": \"white\", \"linecolor\": \"white\", \"ticks\": \"\"}}, \"scene\": {\"xaxis\": {\"backgroundcolor\": \"#E5ECF6\", \"gridcolor\": \"white\", \"gridwidth\": 2, \"linecolor\": \"white\", \"showbackground\": true, \"ticks\": \"\", \"zerolinecolor\": \"white\"}, \"yaxis\": {\"backgroundcolor\": \"#E5ECF6\", \"gridcolor\": \"white\", \"gridwidth\": 2, \"linecolor\": \"white\", \"showbackground\": true, \"ticks\": \"\", \"zerolinecolor\": \"white\"}, \"zaxis\": {\"backgroundcolor\": \"#E5ECF6\", \"gridcolor\": \"white\", \"gridwidth\": 2, \"linecolor\": \"white\", \"showbackground\": true, \"ticks\": \"\", \"zerolinecolor\": \"white\"}}, \"shapedefaults\": {\"line\": {\"color\": \"#2a3f5f\"}}, \"ternary\": {\"aaxis\": {\"gridcolor\": \"white\", \"linecolor\": \"white\", \"ticks\": \"\"}, \"baxis\": {\"gridcolor\": \"white\", \"linecolor\": \"white\", \"ticks\": \"\"}, \"bgcolor\": \"#E5ECF6\", \"caxis\": {\"gridcolor\": \"white\", \"linecolor\": \"white\", \"ticks\": \"\"}}, \"title\": {\"x\": 0.05}, \"xaxis\": {\"automargin\": true, \"gridcolor\": \"white\", \"linecolor\": \"white\", \"ticks\": \"\", \"title\": {\"standoff\": 15}, \"zerolinecolor\": \"white\", \"zerolinewidth\": 2}, \"yaxis\": {\"automargin\": true, \"gridcolor\": \"white\", \"linecolor\": \"white\", \"ticks\": \"\", \"title\": {\"standoff\": 15}, \"zerolinecolor\": \"white\", \"zerolinewidth\": 2}}}, \"title\": {\"text\": \"Topic difference [jaccard distance]<br>ques : letter_to_shareholders\", \"x\": 0.5, \"xanchor\": \"center\", \"y\": 0.9, \"yanchor\": \"top\"}, \"width\": 800, \"xaxis\": {\"ticktext\": [\"Topic-0\", \"Topic-1\", \"Topic-2\", \"Topic-3\"], \"tickvals\": [0, 1, 2, 3], \"title\": {\"text\": \"topic\"}}, \"yaxis\": {\"ticktext\": [\"Topic-0\", \"Topic-1\", \"Topic-2\", \"Topic-3\"], \"tickvals\": [0, 1, 2, 3], \"title\": {\"text\": \"topic\"}}},\n",
       "                        {\"responsive\": true}\n",
       "                    ).then(function(){\n",
       "                            \n",
       "var gd = document.getElementById('4cd4bec6-217e-47aa-97f1-1f153079a9a7');\n",
       "var x = new MutationObserver(function (mutations, observer) {{\n",
       "        var display = window.getComputedStyle(gd).display;\n",
       "        if (!display || display === 'none') {{\n",
       "            console.log([gd, 'removed!']);\n",
       "            Plotly.purge(gd);\n",
       "            observer.disconnect();\n",
       "        }}\n",
       "}});\n",
       "\n",
       "// Listen for the removal of the full notebook cells\n",
       "var notebookContainer = gd.closest('#notebook-container');\n",
       "if (notebookContainer) {{\n",
       "    x.observe(notebookContainer, {childList: true});\n",
       "}}\n",
       "\n",
       "// Listen for the clearing of the current output cell\n",
       "var outputEl = gd.closest('.output');\n",
       "if (outputEl) {{\n",
       "    x.observe(outputEl, {childList: true});\n",
       "}}\n",
       "\n",
       "                        })\n",
       "                };\n",
       "                });\n",
       "            </script>\n",
       "        </div>"
      ]
     },
     "metadata": {},
     "output_type": "display_data"
    }
   ],
   "source": [
    "if( make_plot ):\n",
    "    pass\n",
    "\n",
    "mdiff, annotation = optimal_model.diff(optimal_model, distance='jaccard', num_words=topN_kw )\n",
    "plot_ldaModel_difference_plotly(mdiff, annotation=annotation, col_main=col_main, \n",
    "                                use_topic_name=use_topic_name, dict_topic_mapper=dict_topic_mapper,\n",
    "                                graph_width=800, graph_height=600,\n",
    "                                offset_path=offset_path, im_path=IMAGE_PATH, save_plot=save_plot, show_plot=show_plot )"
   ]
  },
  {
   "cell_type": "markdown",
   "metadata": {},
   "source": [
    "## **2D visualization of topics and associated top keywords**\n",
    "* each circle denotes one topic\n",
    "* ideally each topic must lie in a separate quadrant\n",
    "* size of circle denotes prevalence of a topic (%user per topic)\n",
    "\n",
    "**keyword plot**\n",
    "* for a selected topic, topmost keyword is the most important\n",
    "* blue bar shows overall term freq or in simple words overall importance\n",
    "* red bar shows estimated term frequency within the selected topic\n",
    "\n",
    "**How to view ?**\n",
    "1. Look at the circles i.e topics\n",
    "    * they must be well separated (ideally in opposite quadrants)\n",
    "    * bigger circles are more prevalent\n",
    "2. Click on the topic of interest\n",
    "    * look at the keyword plot\n",
    "    * topmost keywords are mostly responsible for the topic assignment\n",
    "    * red bar should cover most of bar area in top keywords\n",
    "    * keyword importance should drop sharply"
   ]
  },
  {
   "cell_type": "code",
   "execution_count": 32,
   "metadata": {},
   "outputs": [
    {
     "data": {
      "text/html": [
       "\n",
       "<link rel=\"stylesheet\" type=\"text/css\" href=\"https://cdn.rawgit.com/bmabey/pyLDAvis/files/ldavis.v1.0.0.css\">\n",
       "\n",
       "\n",
       "<div id=\"ldavis_el1430432556239671764996106958\"></div>\n",
       "<script type=\"text/javascript\">\n",
       "\n",
       "var ldavis_el1430432556239671764996106958_data = {\"mdsDat\": {\"x\": [-0.18912468834119142, 0.14439030782435355, -0.11229973115106374, 0.15703411166790168], \"y\": [0.01120696876417646, -0.20845086730971976, -0.004617982533673572, 0.20186188107921682], \"topics\": [1, 2, 3, 4], \"cluster\": [1, 1, 1, 1], \"Freq\": [44.44646453857422, 25.458797454833984, 16.04069709777832, 14.054036140441895]}, \"tinfo\": {\"Term\": [\"employee\", \"drive\", \"revenue\", \"satisfaction\", \"focus\", \"need\", \"deal\", \"customer_experience\", \"win\", \"rate\", \"impact\", \"enable\", \"process\", \"sale_leader\", \"great\", \"new\", \"lead\", \"sale\", \"growth\", \"differentiate\", \"score\", \"try\", \"quota\", \"sale_team\", \"relationship\", \"result\", \"space\", \"outcome\", \"manager\", \"clear\", \"result\", \"metric\", \"help\", \"challenge\", \"plan\", \"change\", \"value\", \"thing\", \"market\", \"improve\", \"strategy\", \"seller\", \"use\", \"way\", \"increase_sale\", \"kpis\", \"base\", \"technology\", \"system\", \"learn\", \"big\", \"share\", \"grow\", \"capability\", \"perform\", \"continue\", \"transform\", \"significant\", \"opportunity\", \"come\", \"sale\", \"create\", \"success\", \"need\", \"letter\", \"line\", \"time\", \"drive\", \"customer_experience\", \"growth\", \"sale_team\", \"enable\", \"performance\", \"capture\", \"content\", \"shareholder\", \"support\", \"tie\", \"vision\", \"face\", \"good\", \"strategic\", \"dear\", \"revenue\", \"able\", \"marketing\", \"train\", \"roi\", \"program\", \"focus\", \"right\", \"measurement\", \"solution\", \"require\", \"implement\", \"approach\", \"highlight\", \"new\", \"invest\", \"impact\", \"include\", \"work\", \"letter\", \"employee\", \"satisfaction\", \"process\", \"great\", \"score\", \"differentiate\", \"relationship\", \"space\", \"tool\", \"ability\", \"level\", \"measure\", \"coaching\", \"ramp\", \"happen\", \"jump\", \"culture\", \"try\", \"craft\", \"foster\", \"story\", \"pipeline\", \"successfully\", \"journey\", \"address\", \"depend\", \"thought\", \"impact\", \"play\", \"ai\", \"lead\", \"include\", \"need\", \"work\", \"time\", \"increase\", \"success\", \"sale\", \"provide\", \"revenue\", \"deal\", \"win\", \"rate\", \"sale_leader\", \"quota\", \"outcome\", \"manager\", \"term\", \"measurable\", \"activity\", \"clear\", \"influence\", \"stakeholder\", \"feedback\", \"kpi\", \"close\", \"conversion\", \"velocity\", \"number\", \"sound\", \"onboarding\", \"productivity\", \"provide\", \"tenure\", \"deliver\", \"new_hire\", \"course\", \"average\", \"training\", \"relevant\", \"line\", \"lead\", \"role\", \"focus\", \"revenue\", \"increase\"], \"Freq\": [14.0, 16.0, 24.0, 9.0, 18.0, 18.0, 8.0, 12.0, 7.0, 7.0, 11.0, 10.0, 6.0, 5.0, 6.0, 14.0, 8.0, 28.0, 8.0, 5.0, 5.0, 6.0, 4.0, 7.0, 5.0, 14.0, 5.0, 4.0, 4.0, 4.0, 13.957480430603027, 11.087967872619629, 8.727375984191895, 8.040694236755371, 7.6185455322265625, 7.257485866546631, 7.480437278747559, 7.117814064025879, 6.395071506500244, 6.360445976257324, 5.627382755279541, 5.856675148010254, 5.484755992889404, 5.212543487548828, 5.174867153167725, 5.1912126541137695, 4.951685905456543, 5.643108367919922, 5.062546730041504, 4.760753631591797, 4.492578983306885, 4.574512958526611, 4.362499237060547, 4.220102787017822, 4.206815242767334, 3.9401025772094727, 3.9610514640808105, 3.9176621437072754, 3.9949018955230713, 3.880587339401245, 25.255281448364258, 5.358885765075684, 7.919647693634033, 9.99195384979248, 4.755234718322754, 5.027063369750977, 4.2306389808654785, 15.784544944763184, 11.81721019744873, 7.615431308746338, 7.060612678527832, 9.3904390335083, 6.291563034057617, 6.018945217132568, 5.485904216766357, 5.428508281707764, 4.26600456237793, 3.042076826095581, 3.1333892345428467, 2.614628553390503, 2.572997570037842, 2.480649948120117, 2.1732208728790283, 19.094764709472656, 3.1120901107788086, 2.0796873569488525, 2.009272336959839, 1.9287022352218628, 4.594874382019043, 13.986071586608887, 1.8649017810821533, 1.8773605823516846, 1.7867763042449951, 1.7765240669250488, 1.867919683456421, 1.7792261838912964, 1.8053759336471558, 10.016587257385254, 5.561576843261719, 4.267287731170654, 3.068239212036133, 2.6009104251861572, 2.343247413635254, 14.012543678283691, 9.075031280517578, 5.978137969970703, 5.546056747436523, 4.8258957862854, 5.001278400421143, 4.671273708343506, 4.656634330749512, 3.47910213470459, 2.538698434829712, 2.380575656890869, 2.526707172393799, 1.8753798007965088, 1.5433659553527832, 1.5077258348464966, 1.3845009803771973, 1.3932899236679077, 4.798417091369629, 1.235145092010498, 1.2230490446090698, 1.1215300559997559, 1.145729422569275, 1.0357714891433716, 1.0519850254058838, 0.9853613972663879, 0.922636866569519, 0.852872908115387, 6.565323829650879, 0.7729939222335815, 0.8255288600921631, 4.672974586486816, 3.4182801246643066, 8.25407600402832, 2.61132550239563, 3.0905447006225586, 2.4949514865875244, 2.1769497394561768, 1.9989525079727173, 1.3852264881134033, 1.583048939704895, 7.652499675750732, 7.199711322784424, 6.719911575317383, 5.085270881652832, 4.2997260093688965, 4.124157905578613, 4.042078971862793, 3.9767541885375977, 3.8434951305389404, 3.843142509460449, 4.02701473236084, 3.643486499786377, 3.6417653560638428, 3.5565173625946045, 3.46909236907959, 3.46909236907959, 3.357689142227173, 3.31982684135437, 1.3794656991958618, 1.4412578344345093, 1.2586389780044556, 1.2130271196365356, 4.090554237365723, 0.9785220623016357, 3.77205228805542, 0.8999671339988708, 0.7756927609443665, 0.7466620206832886, 0.7766364812850952, 0.98415607213974, 3.4990618228912354, 3.157944679260254, 0.9857544302940369, 3.7064218521118164, 3.233344793319702, 1.0768920183181763], \"Total\": [14.0, 16.0, 24.0, 9.0, 18.0, 18.0, 8.0, 12.0, 7.0, 7.0, 11.0, 10.0, 6.0, 5.0, 6.0, 14.0, 8.0, 28.0, 8.0, 5.0, 5.0, 6.0, 4.0, 7.0, 5.0, 14.0, 5.0, 4.0, 4.0, 4.0, 14.413448333740234, 11.54932689666748, 9.191198348999023, 8.509947776794434, 8.072013854980469, 7.707787036895752, 7.950507640838623, 7.5849456787109375, 6.843238830566406, 6.844472408294678, 6.0835161209106445, 6.341816425323486, 5.939483642578125, 5.662042617797852, 5.632434844970703, 5.653241157531738, 5.398659706115723, 6.158305644989014, 5.528675079345703, 5.224221229553223, 4.941501617431641, 5.039987087249756, 4.80814790725708, 4.6730055809021, 4.67522668838501, 4.392232418060303, 4.4164557456970215, 4.368913173675537, 4.456295013427734, 4.332411766052246, 28.33086585998535, 6.249217510223389, 10.406381607055664, 18.548410415649414, 7.357609748840332, 8.882857322692871, 8.129622459411621, 16.33342933654785, 12.359953880310059, 8.162723541259766, 7.615560054779053, 10.149748802185059, 6.849425792694092, 6.58847713470459, 6.062768936157227, 5.999924659729004, 4.831743240356445, 3.5979018211364746, 3.717745542526245, 3.1757936477661133, 3.1507983207702637, 3.051070213317871, 2.726835250854492, 24.197452545166016, 3.9498181343078613, 2.64711332321167, 2.5582756996154785, 2.475216865539551, 5.9188103675842285, 18.143081665039062, 2.422121047973633, 2.4436802864074707, 2.346543312072754, 2.341048240661621, 2.463437080383301, 2.347367286682129, 2.3926682472229004, 14.3101167678833, 8.926118850708008, 11.241950035095215, 6.888247489929199, 5.628090858459473, 7.357609748840332, 14.606311798095703, 9.652379989624023, 6.601573467254639, 6.139848232269287, 5.404740810394287, 5.607809066772461, 5.24895715713501, 5.253817558288574, 4.143489360809326, 3.1489226818084717, 2.968611717224121, 3.1593358516693115, 2.4949097633361816, 2.1342921257019043, 2.0905301570892334, 1.961498498916626, 1.9844971895217896, 6.900093078613281, 1.8093172311782837, 1.8501465320587158, 1.7012168169021606, 1.75584077835083, 1.6147408485412598, 1.6939895153045654, 1.6048256158828735, 1.5107872486114502, 1.4411137104034424, 11.241950035095215, 1.3486478328704834, 1.446404218673706, 8.300703048706055, 6.888247489929199, 18.548410415649414, 5.628090858459473, 8.129622459411621, 7.986549377441406, 10.406381607055664, 28.33086585998535, 6.332391262054443, 24.197452545166016, 8.270895004272461, 7.832752227783203, 7.338096618652344, 5.748743534088135, 4.925629138946533, 4.759024143218994, 4.664412498474121, 4.601489543914795, 4.4646759033203125, 4.465540885925293, 4.682133197784424, 4.267059803009033, 4.266851902008057, 4.174652099609375, 4.0875444412231445, 4.0875444412231445, 3.9743099212646484, 4.772601127624512, 2.0064330101013184, 2.105747699737549, 1.921116828918457, 1.8648186922073364, 6.332391262054443, 1.6275843381881714, 6.356897354125977, 1.5232315063476562, 1.4264330863952637, 1.3760236501693726, 1.431473970413208, 1.815842866897583, 8.882857322692871, 8.300703048706055, 2.060312032699585, 18.143081665039062, 24.197452545166016, 7.986549377441406], \"Category\": [\"Default\", \"Default\", \"Default\", \"Default\", \"Default\", \"Default\", \"Default\", \"Default\", \"Default\", \"Default\", \"Default\", \"Default\", \"Default\", \"Default\", \"Default\", \"Default\", \"Default\", \"Default\", \"Default\", \"Default\", \"Default\", \"Default\", \"Default\", \"Default\", \"Default\", \"Default\", \"Default\", \"Default\", \"Default\", \"Default\", \"Topic1\", \"Topic1\", \"Topic1\", \"Topic1\", \"Topic1\", \"Topic1\", \"Topic1\", \"Topic1\", \"Topic1\", \"Topic1\", \"Topic1\", \"Topic1\", \"Topic1\", \"Topic1\", \"Topic1\", \"Topic1\", \"Topic1\", \"Topic1\", \"Topic1\", \"Topic1\", \"Topic1\", \"Topic1\", \"Topic1\", \"Topic1\", \"Topic1\", \"Topic1\", \"Topic1\", \"Topic1\", \"Topic1\", \"Topic1\", \"Topic1\", \"Topic1\", \"Topic1\", \"Topic1\", \"Topic1\", \"Topic1\", \"Topic1\", \"Topic2\", \"Topic2\", \"Topic2\", \"Topic2\", \"Topic2\", \"Topic2\", \"Topic2\", \"Topic2\", \"Topic2\", \"Topic2\", \"Topic2\", \"Topic2\", \"Topic2\", \"Topic2\", \"Topic2\", \"Topic2\", \"Topic2\", \"Topic2\", \"Topic2\", \"Topic2\", \"Topic2\", \"Topic2\", \"Topic2\", \"Topic2\", \"Topic2\", \"Topic2\", \"Topic2\", \"Topic2\", \"Topic2\", \"Topic2\", \"Topic2\", \"Topic2\", \"Topic2\", \"Topic2\", \"Topic2\", \"Topic2\", \"Topic3\", \"Topic3\", \"Topic3\", \"Topic3\", \"Topic3\", \"Topic3\", \"Topic3\", \"Topic3\", \"Topic3\", \"Topic3\", \"Topic3\", \"Topic3\", \"Topic3\", \"Topic3\", \"Topic3\", \"Topic3\", \"Topic3\", \"Topic3\", \"Topic3\", \"Topic3\", \"Topic3\", \"Topic3\", \"Topic3\", \"Topic3\", \"Topic3\", \"Topic3\", \"Topic3\", \"Topic3\", \"Topic3\", \"Topic3\", \"Topic3\", \"Topic3\", \"Topic3\", \"Topic3\", \"Topic3\", \"Topic3\", \"Topic3\", \"Topic3\", \"Topic3\", \"Topic3\", \"Topic4\", \"Topic4\", \"Topic4\", \"Topic4\", \"Topic4\", \"Topic4\", \"Topic4\", \"Topic4\", \"Topic4\", \"Topic4\", \"Topic4\", \"Topic4\", \"Topic4\", \"Topic4\", \"Topic4\", \"Topic4\", \"Topic4\", \"Topic4\", \"Topic4\", \"Topic4\", \"Topic4\", \"Topic4\", \"Topic4\", \"Topic4\", \"Topic4\", \"Topic4\", \"Topic4\", \"Topic4\", \"Topic4\", \"Topic4\", \"Topic4\", \"Topic4\", \"Topic4\", \"Topic4\", \"Topic4\", \"Topic4\"], \"logprob\": [30.0, 29.0, 28.0, 27.0, 26.0, 25.0, 24.0, 23.0, 22.0, 21.0, 20.0, 19.0, 18.0, 17.0, 16.0, 15.0, 14.0, 13.0, 12.0, 11.0, 10.0, 9.0, 8.0, 7.0, 6.0, 5.0, 4.0, 3.0, 2.0, 1.0, -3.4748001098632812, -3.704900026321411, -3.9442999362945557, -4.026299953460693, -4.0802001953125, -4.128699779510498, -4.098499774932861, -4.148200035095215, -4.255199909210205, -4.260700225830078, -4.3831000328063965, -4.343200206756592, -4.40880012512207, -4.459700107574463, -4.4670000076293945, -4.463799953460693, -4.511000156402588, -4.380300045013428, -4.488900184631348, -4.5503997802734375, -4.60830020904541, -4.5903000831604, -4.637700080871582, -4.670899868011475, -4.674099922180176, -4.73960018157959, -4.734300136566162, -4.745299816131592, -4.725800037384033, -4.754799842834473, -2.881700038909912, -4.432000160217285, -4.041399955749512, -3.809000015258789, -4.551499843597412, -4.4959001541137695, -4.668399810791016, -2.7945001125335693, -3.0840001106262207, -3.523400068283081, -3.5989999771118164, -3.3138999938964844, -3.7142999172210693, -3.7585999965667725, -3.8513998985290527, -3.8619000911712646, -4.10290002822876, -4.440999984741211, -4.411399841308594, -4.592400074005127, -4.608500003814697, -4.644999980926514, -4.777299880981445, -2.604099988937378, -4.418300151824951, -4.821300029754639, -4.855800151824951, -4.896699905395508, -4.028600215911865, -2.9154999256134033, -4.930300235748291, -4.923699855804443, -4.973100185394287, -4.978899955749512, -4.928699970245361, -4.977399826049805, -4.962800025939941, -3.249300003051758, -3.8376998901367188, -4.10260009765625, -4.432400226593018, -4.597700119018555, -4.702000141143799, -2.45169997215271, -2.8861000537872314, -3.303499937057495, -3.378499984741211, -3.5176000595092773, -3.4818999767303467, -3.5501999855041504, -3.553299903869629, -3.8447999954223633, -4.159999847412109, -4.224299907684326, -4.164700031280518, -4.462800025939941, -4.657700061798096, -4.681000232696533, -4.766300201416016, -4.759900093078613, -3.5232999324798584, -4.88040018081665, -4.8902997970581055, -4.976900100708008, -4.955599784851074, -5.05649995803833, -5.040900230407715, -5.106400012969971, -5.172100067138672, -5.250800132751465, -3.2098000049591064, -5.349100112915039, -5.283299922943115, -3.549799919128418, -3.862499952316284, -2.9809000492095947, -4.131800174713135, -3.9632999897003174, -4.177299976348877, -4.313700199127197, -4.39900016784668, -4.7657999992370605, -4.632299900054932, -2.9244000911712646, -2.9853999614715576, -3.05430006980896, -3.3329999446868896, -3.5007998943328857, -3.5425000190734863, -3.5625998973846436, -3.578900098800659, -3.61299991607666, -3.613100051879883, -3.5664000511169434, -3.6665000915527344, -3.6668999195098877, -3.6905999183654785, -3.7155001163482666, -3.7155001163482666, -3.7481000423431396, -3.759500026702881, -4.637700080871582, -4.593900203704834, -4.729400157928467, -4.766300201416016, -3.5506999492645264, -4.981100082397461, -3.6317999362945557, -5.064799785614014, -5.213399887084961, -5.251500129699707, -5.212200164794922, -4.975399971008301, -3.706899881362915, -3.809499979019165, -4.973700046539307, -3.6493000984191895, -3.785900115966797, -4.885300159454346], \"loglift\": [30.0, 29.0, 28.0, 27.0, 26.0, 25.0, 24.0, 23.0, 22.0, 21.0, 20.0, 19.0, 18.0, 17.0, 16.0, 15.0, 14.0, 13.0, 12.0, 11.0, 10.0, 9.0, 8.0, 7.0, 6.0, 5.0, 4.0, 3.0, 2.0, 1.0, 0.7786999940872192, 0.7700999975204468, 0.7591000199317932, 0.7541999816894531, 0.7530999779701233, 0.7506999969482422, 0.7498999834060669, 0.7473000288009644, 0.7432000041007996, 0.737500011920929, 0.7329000234603882, 0.7312999963760376, 0.7311999797821045, 0.7282000184059143, 0.7261999845504761, 0.725600004196167, 0.7245000004768372, 0.7235000133514404, 0.7228000164031982, 0.7179999947547913, 0.7156000137329102, 0.7139999866485596, 0.7135999798774719, 0.708899974822998, 0.705299973487854, 0.7023000121116638, 0.7020999789237976, 0.7019000053405762, 0.7016000151634216, 0.7006999850273132, 0.6959999799728394, 0.6571999788284302, 0.5378000140190125, 0.1923000067472458, 0.37439998984336853, 0.24160000681877136, 0.15770000219345093, 1.333899974822998, 1.323199987411499, 1.298699975013733, 1.2924000024795532, 1.2904000282287598, 1.2832000255584717, 1.2776999473571777, 1.2681000232696533, 1.2680000066757202, 1.2436000108718872, 1.2002999782562256, 1.197100043296814, 1.173699975013733, 1.1655000448226929, 1.1611000299453735, 1.1411999464035034, 1.1312999725341797, 1.129699945449829, 1.1268999576568604, 1.1265000104904175, 1.1186000108718872, 1.11489999294281, 1.1079000234603882, 1.1066999435424805, 1.1045000553131104, 1.0956000089645386, 1.0922000408172607, 1.0914000272750854, 1.090999960899353, 1.0865000486373901, 1.0113999843597412, 0.8949999809265137, 0.399399995803833, 0.5594000220298767, 0.5961999893188477, 0.22390000522136688, 1.7884999513626099, 1.768399953842163, 1.7308000326156616, 1.7282999753952026, 1.7167999744415283, 1.7156000137329102, 1.7134000062942505, 1.7094000577926636, 1.6553000211715698, 1.6145999431610107, 1.6093000173568726, 1.606600046157837, 1.544600009918213, 1.5059000253677368, 1.5032000541687012, 1.4816999435424805, 1.4763000011444092, 1.4667999744415283, 1.4483000040054321, 1.416100025177002, 1.4134000539779663, 1.4031000137329102, 1.3860000371932983, 1.353600025177002, 1.3423000574111938, 1.336899995803833, 1.3055000305175781, 1.292199969291687, 1.2734999656677246, 1.2691999673843384, 1.2554999589920044, 1.1294000148773193, 1.020400047302246, 1.0621000528335571, 0.8629000186920166, 0.6665999889373779, 0.265500009059906, -0.8213000297546387, 0.3102000057697296, -0.8968999981880188, 1.884600043296814, 1.878000020980835, 1.8743000030517578, 1.8395999670028687, 1.8264000415802002, 1.819100022315979, 1.819100022315979, 1.8163000345230103, 1.812399983406067, 1.8121999502182007, 1.8114999532699585, 1.8042999505996704, 1.8039000034332275, 1.8020000457763672, 1.798200011253357, 1.798200011253357, 1.7936999797821045, 1.5993000268936157, 1.5875999927520752, 1.5830999612808228, 1.5393999814987183, 1.5321999788284302, 1.5253000259399414, 1.4535000324249268, 1.4402999877929688, 1.4359999895095825, 1.3530999422073364, 1.3509000539779663, 1.3508000373840332, 1.3496999740600586, 1.0305999517440796, 0.9958000183105469, 1.225100040435791, 0.37400001287460327, -0.05050000175833702, -0.0414000004529953]}, \"token.table\": {\"Topic\": [3, 1, 2, 4, 3, 3, 2, 4, 1, 1, 1, 2, 1, 1, 4, 4, 3, 1, 2, 1, 4, 4, 3, 1, 2, 3, 2, 4, 2, 1, 4, 3, 3, 2, 3, 2, 2, 4, 2, 4, 3, 2, 3, 1, 2, 3, 1, 2, 2, 3, 2, 1, 2, 3, 1, 3, 4, 1, 4, 1, 2, 3, 3, 4, 1, 3, 4, 1, 1, 2, 3, 1, 4, 4, 1, 2, 4, 3, 2, 1, 1, 3, 1, 2, 4, 4, 4, 1, 4, 1, 2, 3, 1, 3, 3, 4, 2, 4, 2, 3, 4, 4, 3, 4, 3, 4, 2, 1, 2, 3, 4, 2, 2, 3, 4, 1, 3, 4, 4, 2, 3, 3, 1, 1, 2, 1, 2, 4, 3, 4, 3, 2, 1, 1, 3, 3, 2, 1, 1, 4, 4, 1, 3, 2, 1, 3, 4, 3, 2, 4, 1, 1, 3, 1, 1, 3, 4, 2, 1, 4, 2, 3], \"Freq\": [0.9527067542076111, 0.253176212310791, 0.759528636932373, 0.8957481384277344, 0.6231206655502319, 0.6913696527481079, 0.8520183563232422, 0.7267317175865173, 0.9261558055877686, 0.809470534324646, 0.8559801578521729, 0.9106808304786682, 0.9400762915611267, 0.9081724882125854, 0.854311466217041, 0.7339369654655457, 0.8016322255134583, 0.9232732653617859, 0.8247056603431702, 0.9106985926628113, 0.7548480033874512, 0.7010493874549866, 0.5526946783065796, 0.8001001477241516, 0.16002003848552704, 0.5039059519767761, 0.9708774089813232, 0.9672471880912781, 0.7334510087966919, 0.31461888551712036, 0.6292377710342407, 0.6619065403938293, 0.891613781452179, 0.9795860648155212, 0.958489716053009, 0.8867214322090149, 0.9446457624435425, 0.9581636786460876, 0.7716439962387085, 0.22046971321105957, 0.5404977202415466, 0.952139675617218, 0.9772228598594666, 0.8319211602210999, 0.9800650477409363, 0.9566951394081116, 0.9791976809501648, 0.8358868956565857, 0.35581016540527344, 0.6226677894592285, 0.8118737936019897, 0.876619815826416, 0.43552443385124207, 0.43552443385124207, 0.5008420944213867, 0.25042104721069336, 0.12521052360534668, 0.8877155780792236, 0.9374136328697205, 0.3360923230648041, 0.6721846461296082, 0.5903224349021912, 0.5098143219947815, 0.7339369654655457, 0.8844484090805054, 0.6023586392402649, 0.36141517758369446, 0.9570804238319397, 0.6795685291290283, 0.2718273997306824, 0.6737155914306641, 0.5628819465637207, 0.33772915601730347, 0.8575570583343506, 0.8767778277397156, 0.7555400133132935, 0.8959217071533203, 0.949566662311554, 0.8184376955032349, 0.9524364471435547, 0.5391297340393066, 0.43130379915237427, 0.27952253818511963, 0.6988063454627991, 0.6564990282058716, 0.4983969032764435, 0.5205305218696594, 0.8976066708564758, 0.8405084609985352, 0.8555734753608704, 0.875985860824585, 0.5695277452468872, 0.9910785555839539, 0.7414833903312683, 0.9088742136955261, 0.5362451672554016, 0.8447643518447876, 0.16895286738872528, 0.15791822969913483, 0.15791822969913483, 0.6316729187965393, 0.8120790123939514, 0.9370788335800171, 0.9539258480072021, 0.9525701403617859, 0.5507084727287292, 0.8543181419372559, 0.9713150858879089, 0.7852066159248352, 0.08265332877635956, 0.12397999316453934, 0.8257225751876831, 0.8080099821090698, 0.4853633642196655, 0.4853633642196655, 0.8824297785758972, 0.07059438526630402, 0.03529719263315201, 0.8697552680969238, 0.9191707372665405, 0.9324125051498413, 0.9251137375831604, 0.946101188659668, 0.9920660257339478, 0.8333438038825989, 0.9155595302581787, 0.8523175120353699, 0.47489070892333984, 0.9516889452934265, 0.9374592900276184, 0.5878145694732666, 0.6555076837539673, 0.9862717390060425, 0.7687590718269348, 0.1921897679567337, 0.6192944049835205, 0.827858567237854, 0.9043757915496826, 0.9742939472198486, 0.614407479763031, 0.8692837357521057, 0.9228807091712952, 0.6939077973365784, 0.8338193297386169, 0.49202775955200195, 0.36902081966400146, 0.12300693988800049, 0.7240274548530579, 0.7817765474319458, 0.6985806226730347, 0.905703604221344, 0.2898511588573456, 0.7246279120445251, 0.8418239951133728, 0.8804469108581543, 0.2095293402671814, 0.6285880208015442, 0.8069406747817993, 0.8830735087394714, 0.8936833143234253, 0.533040463924408, 0.533040463924408], \"Term\": [\"ability\", \"able\", \"able\", \"activity\", \"address\", \"ai\", \"approach\", \"average\", \"base\", \"big\", \"capability\", \"capture\", \"challenge\", \"change\", \"clear\", \"close\", \"coaching\", \"come\", \"content\", \"continue\", \"conversion\", \"course\", \"craft\", \"create\", \"create\", \"culture\", \"customer_experience\", \"deal\", \"dear\", \"deliver\", \"deliver\", \"depend\", \"differentiate\", \"drive\", \"employee\", \"enable\", \"face\", \"feedback\", \"focus\", \"focus\", \"foster\", \"good\", \"great\", \"grow\", \"growth\", \"happen\", \"help\", \"highlight\", \"impact\", \"impact\", \"implement\", \"improve\", \"include\", \"include\", \"increase\", \"increase\", \"increase\", \"increase_sale\", \"influence\", \"invest\", \"invest\", \"journey\", \"jump\", \"kpi\", \"kpis\", \"lead\", \"lead\", \"learn\", \"letter\", \"letter\", \"level\", \"line\", \"line\", \"manager\", \"market\", \"marketing\", \"measurable\", \"measure\", \"measurement\", \"metric\", \"need\", \"need\", \"new\", \"new\", \"new_hire\", \"number\", \"onboarding\", \"opportunity\", \"outcome\", \"perform\", \"performance\", \"pipeline\", \"plan\", \"play\", \"process\", \"productivity\", \"program\", \"program\", \"provide\", \"provide\", \"provide\", \"quota\", \"ramp\", \"rate\", \"relationship\", \"relevant\", \"require\", \"result\", \"revenue\", \"revenue\", \"revenue\", \"right\", \"roi\", \"role\", \"role\", \"sale\", \"sale\", \"sale\", \"sale_leader\", \"sale_team\", \"satisfaction\", \"score\", \"seller\", \"share\", \"shareholder\", \"significant\", \"solution\", \"sound\", \"space\", \"stakeholder\", \"story\", \"strategic\", \"strategy\", \"success\", \"success\", \"successfully\", \"support\", \"system\", \"technology\", \"tenure\", \"term\", \"thing\", \"thought\", \"tie\", \"time\", \"time\", \"time\", \"tool\", \"train\", \"training\", \"transform\", \"try\", \"try\", \"use\", \"value\", \"velocity\", \"velocity\", \"vision\", \"way\", \"win\", \"work\", \"work\"]}, \"R\": 30, \"lambda.step\": 0.01, \"plot.opts\": {\"xlab\": \"PC1\", \"ylab\": \"PC2\"}, \"topic.order\": [4, 3, 2, 1]};\n",
       "\n",
       "function LDAvis_load_lib(url, callback){\n",
       "  var s = document.createElement('script');\n",
       "  s.src = url;\n",
       "  s.async = true;\n",
       "  s.onreadystatechange = s.onload = callback;\n",
       "  s.onerror = function(){console.warn(\"failed to load library \" + url);};\n",
       "  document.getElementsByTagName(\"head\")[0].appendChild(s);\n",
       "}\n",
       "\n",
       "if(typeof(LDAvis) !== \"undefined\"){\n",
       "   // already loaded: just create the visualization\n",
       "   !function(LDAvis){\n",
       "       new LDAvis(\"#\" + \"ldavis_el1430432556239671764996106958\", ldavis_el1430432556239671764996106958_data);\n",
       "   }(LDAvis);\n",
       "}else if(typeof define === \"function\" && define.amd){\n",
       "   // require.js is available: use it to load d3/LDAvis\n",
       "   require.config({paths: {d3: \"https://cdnjs.cloudflare.com/ajax/libs/d3/3.5.5/d3.min\"}});\n",
       "   require([\"d3\"], function(d3){\n",
       "      window.d3 = d3;\n",
       "      LDAvis_load_lib(\"https://cdn.rawgit.com/bmabey/pyLDAvis/files/ldavis.v1.0.0.js\", function(){\n",
       "        new LDAvis(\"#\" + \"ldavis_el1430432556239671764996106958\", ldavis_el1430432556239671764996106958_data);\n",
       "      });\n",
       "    });\n",
       "}else{\n",
       "    // require.js not available: dynamically load d3 & LDAvis\n",
       "    LDAvis_load_lib(\"https://cdnjs.cloudflare.com/ajax/libs/d3/3.5.5/d3.min.js\", function(){\n",
       "         LDAvis_load_lib(\"https://cdn.rawgit.com/bmabey/pyLDAvis/files/ldavis.v1.0.0.js\", function(){\n",
       "                 new LDAvis(\"#\" + \"ldavis_el1430432556239671764996106958\", ldavis_el1430432556239671764996106958_data);\n",
       "            })\n",
       "         });\n",
       "}\n",
       "</script>"
      ],
      "text/plain": [
       "PreparedData(topic_coordinates=              x         y  topics  cluster       Freq\n",
       "topic                                                \n",
       "3     -0.189125  0.011207       1        1  44.446465\n",
       "2      0.144390 -0.208451       2        1  25.458797\n",
       "1     -0.112300 -0.004618       3        1  16.040697\n",
       "0      0.157034  0.201862       4        1  14.054036, topic_info=             Term       Freq      Total Category  logprob  loglift\n",
       "109      employee  14.000000  14.000000  Default  30.0000  30.0000\n",
       "146         drive  16.000000  16.000000  Default  29.0000  29.0000\n",
       "71        revenue  24.000000  24.000000  Default  28.0000  28.0000\n",
       "217  satisfaction   9.000000   9.000000  Default  27.0000  27.0000\n",
       "66          focus  18.000000  18.000000  Default  26.0000  26.0000\n",
       "..            ...        ...        ...      ...      ...      ...\n",
       "88           lead   3.157945   8.300703   Topic4  -3.8095   0.9958\n",
       "82           role   0.985754   2.060312   Topic4  -4.9737   1.2251\n",
       "66          focus   3.706422  18.143082   Topic4  -3.6493   0.3740\n",
       "71        revenue   3.233345  24.197453   Topic4  -3.7859  -0.0505\n",
       "13       increase   1.076892   7.986549   Topic4  -4.8853  -0.0414\n",
       "\n",
       "[179 rows x 6 columns], token_table=      Topic      Freq      Term\n",
       "term                           \n",
       "30        3  0.952707   ability\n",
       "57        1  0.253176      able\n",
       "57        2  0.759529      able\n",
       "119       4  0.895748  activity\n",
       "209       3  0.623121   address\n",
       "...     ...       ...       ...\n",
       "222       2  0.806941    vision\n",
       "56        1  0.883074       way\n",
       "128       4  0.893683       win\n",
       "149       2  0.533040      work\n",
       "149       3  0.533040      work\n",
       "\n",
       "[162 rows x 3 columns], R=30, lambda_step=0.01, plot_opts={'xlab': 'PC1', 'ylab': 'PC2'}, topic_order=[4, 3, 2, 1])"
      ]
     },
     "execution_count": 32,
     "metadata": {},
     "output_type": "execute_result"
    }
   ],
   "source": [
    "obj_vis = show_pyLDAvis( model=optimal_model, corpus=corpus, id2word_dict=id2word_dict )\n",
    "obj_vis"
   ]
  },
  {
   "cell_type": "code",
   "execution_count": null,
   "metadata": {},
   "outputs": [],
   "source": []
  },
  {
   "cell_type": "markdown",
   "metadata": {},
   "source": [
    "### smoke test of topic assignment\n",
    "Below data shows:\n",
    "1. top user response match for each topic\n",
    "2. colored words are the keywords who matched with the assigned topic"
   ]
  },
  {
   "cell_type": "code",
   "execution_count": 33,
   "metadata": {},
   "outputs": [],
   "source": [
    "#from respondentCluster_utils import *"
   ]
  },
  {
   "cell_type": "code",
   "execution_count": 35,
   "metadata": {
    "scrolled": true
   },
   "outputs": [
    {
     "name": "stdout",
     "output_type": "stream",
     "text": [
      "__________________________________________________ get_topN_topics __________________________________________________\n",
      "total records       : 29\n",
      "num topics selected : 8\n",
      "________________________________________________________________________________________________________________________________\n",
      "\n",
      "\n",
      "Ques : letter_to_shareholders\n",
      "\n",
      "Topic-0 : topic-0\n",
      "['deal', 'win', 'rate', 'sale_leader', 'quota', 'outcome', 'provide', 'manager', 'clear', 'term', 'measurable', 'activity', 'deliver', 'focus', 'influence', 'stakeholder', 'feedback', 'line', 'close', 'kpi']\n"
     ]
    },
    {
     "data": {
      "text/html": [
       "<text style=color:black>squarely <text style=color:#e6194b>focused</text> on the <text style=color:#e6194b>measurable</text> <text style=color:#e6194b>kpi's</text> all <text style=color:#e6194b>stakeholders</text> have already bought into - here's how we've <text style=color:#e6194b>delivered</text> in <text style=color:#e6194b>terms</text> of the lagging:  <text style=color:#e6194b>deals</text> won/lost, <text style=color:#e6194b>influenced</text> revenue, <text style=color:#e6194b>win</text> and <text style=color:#e6194b>close</text></text>"
      ],
      "text/plain": [
       "<IPython.core.display.HTML object>"
      ]
     },
     "metadata": {},
     "output_type": "display_data"
    },
    {
     "data": {
      "text/html": [
       "<text style=color:black><text style=color:#e6194b>rates</text> and the leading:  conversion <text style=color:#e6194b>rates,</text> activities and <text style=color:#e6194b>timelines</text> and <text style=color:#e6194b>deal</text> stage velocity.  qualitative <text style=color:#e6194b>feedback</text> from the <text style=color:#e6194b>quota-carriers,</text> <text style=color:#e6194b>front-line</text> <text style=color:#e6194b>managers</text> and <text style=color:#e6194b>sales</text> <text style=color:#e6194b>leaders</text> would <text style=color:#e6194b>provide</text> the texture surrounding</text>"
      ],
      "text/plain": [
       "<IPython.core.display.HTML object>"
      ]
     },
     "metadata": {},
     "output_type": "display_data"
    },
    {
     "data": {
      "text/html": [
       "<text style=color:black>it.</text>"
      ],
      "text/plain": [
       "<IPython.core.display.HTML object>"
      ]
     },
     "metadata": {},
     "output_type": "display_data"
    },
    {
     "name": "stdout",
     "output_type": "stream",
     "text": [
      "__________________________________________________________________________________________________________________________________\n"
     ]
    },
    {
     "data": {
      "text/html": [
       "<text style=color:black>last year, we formalized the <text style=color:#e6194b>sales</text> enablement program. we took <text style=color:#e6194b>'sales</text> enablement' from adhoc to a program that is: <text style=color:#e6194b>measurable,</text> repeatable, and dynamic. we aligned the messaging of the channel</text>"
      ],
      "text/plain": [
       "<IPython.core.display.HTML object>"
      ]
     },
     "metadata": {},
     "output_type": "display_data"
    },
    {
     "data": {
      "text/html": [
       "<text style=color:black>and internal <text style=color:#e6194b>sales.</text> we decreased new hire onboarding time. we kept average tenure consistent for individual contributors and <text style=color:#e6194b>managers,</text> and increased tenure in our most experienced roles <text style=color:#e6194b>(showing</text> positive retention,</text>"
      ],
      "text/plain": [
       "<IPython.core.display.HTML object>"
      ]
     },
     "metadata": {},
     "output_type": "display_data"
    },
    {
     "data": {
      "text/html": [
       "<text style=color:black>and a <text style=color:#e6194b>clear</text> promotion path). next year, we will <text style=color:#e6194b>focus</text> on <text style=color:#e6194b>manager</text> enablement and formalize bottoms-up <text style=color:#e6194b>feedback</text> for all <text style=color:#e6194b>sales</text> enablement services to keep the program relevant, agile and dynamic.</text>"
      ],
      "text/plain": [
       "<IPython.core.display.HTML object>"
      ]
     },
     "metadata": {},
     "output_type": "display_data"
    },
    {
     "name": "stdout",
     "output_type": "stream",
     "text": [
      "__________________________________________________________________________________________________________________________________\n"
     ]
    },
    {
     "data": {
      "text/html": [
       "<text style=color:black>tops <text style=color:#e6194b>line,</text> activities:  number of courses, curricula and certifications <text style=color:#e6194b>delivered,</text> seller assets published, reps onboarded, training sessions and speaking engagements performed. bottom <text style=color:#e6194b>line,</text> <text style=color:#e6194b>kpis:</text> avg <text style=color:#e6194b>deal</text> size-yoy, avg time</text>"
      ],
      "text/plain": [
       "<IPython.core.display.HTML object>"
      ]
     },
     "metadata": {},
     "output_type": "display_data"
    },
    {
     "data": {
      "text/html": [
       "<text style=color:black>to first <text style=color:#e6194b>deal-new</text> hire, avg time to first large <text style=color:#e6194b>deal</text> (2x +  greater than avg)-new hire. % of reps achieving <text style=color:#e6194b>quota-yoy,</text> % of teams excedeing <text style=color:#e6194b>quota-yoy,</text> number of reps</text>"
      ],
      "text/plain": [
       "<IPython.core.display.HTML object>"
      ]
     },
     "metadata": {},
     "output_type": "display_data"
    },
    {
     "data": {
      "text/html": [
       "<text style=color:black><text style=color:#e6194b>winning</text> president's club-yoy...</text>"
      ],
      "text/plain": [
       "<IPython.core.display.HTML object>"
      ]
     },
     "metadata": {},
     "output_type": "display_data"
    },
    {
     "name": "stdout",
     "output_type": "stream",
     "text": [
      "__________________________________________________________________________________________________________________________________\n"
     ]
    },
    {
     "data": {
      "text/html": [
       "<text style=color:black>it would sound like a quarterly earning call. </text>"
      ],
      "text/plain": [
       "<IPython.core.display.HTML object>"
      ]
     },
     "metadata": {},
     "output_type": "display_data"
    },
    {
     "name": "stdout",
     "output_type": "stream",
     "text": [
      "__________________________________________________________________________________________________________________________________\n"
     ]
    },
    {
     "data": {
      "text/html": [
       "<text style=color:black>like any p&l function with <text style=color:#e6194b>clear</text> quantum and quality of <text style=color:#e6194b>outcomes</text> towards customers, employees and the company</text>"
      ],
      "text/plain": [
       "<IPython.core.display.HTML object>"
      ]
     },
     "metadata": {},
     "output_type": "display_data"
    },
    {
     "name": "stdout",
     "output_type": "stream",
     "text": [
      "__________________________________________________________________________________________________________________________________\n",
      "Topic-1 : topic-1\n",
      "['employee', 'satisfaction', 'need', 'impact', 'process', 'great', 'differentiate', 'score', 'try', 'lead', 'relationship', 'space', 'tool', 'include', 'time', 'work', 'ability', 'measure', 'increase', 'level']\n"
     ]
    },
    {
     "data": {
      "text/html": [
       "<text style=color:black>it would <text style=color:#3cb44b>try</text> back to revenue <text style=color:#3cb44b>impact,</text> <text style=color:#3cb44b>employee</text> <text style=color:#3cb44b>satisfaction</text> and client experience <text style=color:#3cb44b>scores.</text> it would connect the dots between <text style=color:#3cb44b>great</text> <text style=color:#3cb44b>relationships,</text> client experience and revenue. i <text style=color:#3cb44b>included</text> <text style=color:#3cb44b>employee</text> <text style=color:#3cb44b>satisfaction/experience</text> because</text>"
      ],
      "text/plain": [
       "<IPython.core.display.HTML object>"
      ]
     },
     "metadata": {},
     "output_type": "display_data"
    },
    {
     "data": {
      "text/html": [
       "<text style=color:black>it directly relates to client experience. client experience is how we <text style=color:#3cb44b>need</text> to <text style=color:#3cb44b>differentiate</text> to <text style=color:#3cb44b>lead</text> in our <text style=color:#3cb44b>space.</text></text>"
      ],
      "text/plain": [
       "<IPython.core.display.HTML object>"
      ]
     },
     "metadata": {},
     "output_type": "display_data"
    },
    {
     "name": "stdout",
     "output_type": "stream",
     "text": [
      "__________________________________________________________________________________________________________________________________\n"
     ]
    },
    {
     "data": {
      "text/html": [
       "<text style=color:black><text style=color:#3cb44b>employees</text> have an integral role to play. they must all evaluate the culture. they ought to think strategically. but even more so, they must avoid the consensus decision-making that waits</text>"
      ],
      "text/plain": [
       "<IPython.core.display.HTML object>"
      ]
     },
     "metadata": {},
     "output_type": "display_data"
    },
    {
     "data": {
      "text/html": [
       "<text style=color:black>for things to happen.</text>"
      ],
      "text/plain": [
       "<IPython.core.display.HTML object>"
      ]
     },
     "metadata": {},
     "output_type": "display_data"
    },
    {
     "name": "stdout",
     "output_type": "stream",
     "text": [
      "__________________________________________________________________________________________________________________________________\n"
     ]
    },
    {
     "data": {
      "text/html": [
       "<text style=color:black><text style=color:#3cb44b>need</text> more <text style=color:#3cb44b>time</text> to craft t his</text>"
      ],
      "text/plain": [
       "<IPython.core.display.HTML object>"
      ]
     },
     "metadata": {},
     "output_type": "display_data"
    },
    {
     "name": "stdout",
     "output_type": "stream",
     "text": [
      "__________________________________________________________________________________________________________________________________\n"
     ]
    },
    {
     "data": {
      "text/html": [
       "<text style=color:black><text style=color:#3cb44b>need</text> more <text style=color:#3cb44b>time</text> to craft this-</text>"
      ],
      "text/plain": [
       "<IPython.core.display.HTML object>"
      ]
     },
     "metadata": {},
     "output_type": "display_data"
    },
    {
     "name": "stdout",
     "output_type": "stream",
     "text": [
      "__________________________________________________________________________________________________________________________________\n"
     ]
    },
    {
     "data": {
      "text/html": [
       "<text style=color:black>take a look at the past <text style=color:#3cb44b>work,</text> how awesome it is, and jump on board now to ride the success wagon! :-)</text>"
      ],
      "text/plain": [
       "<IPython.core.display.HTML object>"
      ]
     },
     "metadata": {},
     "output_type": "display_data"
    },
    {
     "name": "stdout",
     "output_type": "stream",
     "text": [
      "__________________________________________________________________________________________________________________________________\n"
     ]
    },
    {
     "data": {
      "text/html": [
       "<text style=color:black>reduced <text style=color:#3cb44b>time</text> to quotas, <text style=color:#3cb44b>increased</text> <text style=color:#3cb44b>time</text> to productivity, reduced <text style=color:#3cb44b>time</text> to ramp up, <text style=color:#3cb44b>increased</text> pipeline. decreased <text style=color:#3cb44b>time</text> to first deal.... <text style=color:#3cb44b>increase</text> <text style=color:#3cb44b>impact</text> to sellers on what they <text style=color:#3cb44b>need</text> to know</text>"
      ],
      "text/plain": [
       "<IPython.core.display.HTML object>"
      ]
     },
     "metadata": {},
     "output_type": "display_data"
    },
    {
     "data": {
      "text/html": [
       "<text style=color:black>and do to go successfully from one customer conversations to the next</text>"
      ],
      "text/plain": [
       "<IPython.core.display.HTML object>"
      ]
     },
     "metadata": {},
     "output_type": "display_data"
    },
    {
     "name": "stdout",
     "output_type": "stream",
     "text": [
      "__________________________________________________________________________________________________________________________________\n"
     ]
    },
    {
     "data": {
      "text/html": [
       "<text style=color:black>customers are the end result, let's start at the end of the <text style=color:#3cb44b>process</text> and <text style=color:#3cb44b>work</text> backwards.\n",
       "\n",
       "i feel like this is a loaded question that plays into <text style=color:#3cb44b>level</text> jump or sales</text>"
      ],
      "text/plain": [
       "<IPython.core.display.HTML object>"
      ]
     },
     "metadata": {},
     "output_type": "display_data"
    },
    {
     "data": {
      "text/html": [
       "<text style=color:black>hood website.   go read their websites ... specifically <text style=color:#3cb44b>level</text> jump.\n",
       "\n",
       "looks you are fishing for something about ramp, velocity and what are my k p i  -- call</text>"
      ],
      "text/plain": [
       "<IPython.core.display.HTML object>"
      ]
     },
     "metadata": {},
     "output_type": "display_data"
    },
    {
     "data": {
      "text/html": [
       "<text style=color:black>me if you want to discuss </text>"
      ],
      "text/plain": [
       "<IPython.core.display.HTML object>"
      ]
     },
     "metadata": {},
     "output_type": "display_data"
    },
    {
     "name": "stdout",
     "output_type": "stream",
     "text": [
      "__________________________________________________________________________________________________________________________________\n"
     ]
    },
    {
     "data": {
      "text/html": [
       "<text style=color:black><text style=color:#3cb44b>ability</text> to handle capacity, address errors, improve <text style=color:#3cb44b>process</text></text>"
      ],
      "text/plain": [
       "<IPython.core.display.HTML object>"
      ]
     },
     "metadata": {},
     "output_type": "display_data"
    },
    {
     "name": "stdout",
     "output_type": "stream",
     "text": [
      "__________________________________________________________________________________________________________________________________\n",
      "Topic-2 : topic-2\n",
      "['revenue', 'drive', 'focus', 'customer_experience', 'new', 'enable', 'growth', 'sale_team', 'performance', 'capture', 'invest', 'content', 'shareholder', 'program', 'impact', 'support', 'vision', 'able', 'include', 'tie']\n"
     ]
    },
    {
     "data": {
      "text/html": [
       "<text style=color:black>im 2020 , tiffanys will <text style=color:#4363d8>focus</text> is to <text style=color:#4363d8><text style=color:#4363d8>enable</text></text> a  <text style=color:#4363d8>customer</text> centric organization which will <text style=color:#4363d8>drive</text> a world class <text style=color:#4363d8>customer</text> <text style=color:#4363d8>experience.</text>  the priority will be to <text style=color:#4363d8>invest</text> in</text>"
      ],
      "text/plain": [
       "<IPython.core.display.HTML object>"
      ]
     },
     "metadata": {},
     "output_type": "display_data"
    },
    {
     "data": {
      "text/html": [
       "<text style=color:black>the transformation of our <text style=color:#4363d8>sales</text> <text style=color:#4363d8>team</text> to <text style=color:#4363d8>drive</text> <text style=color:#4363d8>profitable</text> <text style=color:#4363d8>revenue</text> <text style=color:#4363d8>growth</text> through a superior <text style=color:#4363d8>customer</text> <text style=color:#4363d8>experience</text> to retain our existing <text style=color:#4363d8>customers</text> and <text style=color:#4363d8>capture</text> <text style=color:#4363d8>new</text> logos.</text>"
      ],
      "text/plain": [
       "<IPython.core.display.HTML object>"
      ]
     },
     "metadata": {},
     "output_type": "display_data"
    },
    {
     "name": "stdout",
     "output_type": "stream",
     "text": [
      "__________________________________________________________________________________________________________________________________\n"
     ]
    },
    {
     "data": {
      "text/html": [
       "<text style=color:black>a letter that <text style=color:#4363d8>focuses</text> on <text style=color:#4363d8>revenue</text> <text style=color:#4363d8>impact</text> through <text style=color:#4363d8>performance</text> measurements </text>"
      ],
      "text/plain": [
       "<IPython.core.display.HTML object>"
      ]
     },
     "metadata": {},
     "output_type": "display_data"
    },
    {
     "name": "stdout",
     "output_type": "stream",
     "text": [
      "__________________________________________________________________________________________________________________________________\n"
     ]
    },
    {
     "data": {
      "text/html": [
       "<text style=color:black>we're a startup and we set the foundation. next year we'll standardize, the following year(s) we'll optimize.</text>"
      ],
      "text/plain": [
       "<IPython.core.display.HTML object>"
      ]
     },
     "metadata": {},
     "output_type": "display_data"
    },
    {
     "name": "stdout",
     "output_type": "stream",
     "text": [
      "__________________________________________________________________________________________________________________________________\n"
     ]
    },
    {
     "data": {
      "text/html": [
       "<text style=color:black>it would <text style=color:#4363d8>focus</text> solely on <text style=color:#4363d8>impact</text> and <text style=color:#4363d8>growth.</text> </text>"
      ],
      "text/plain": [
       "<IPython.core.display.HTML object>"
      ]
     },
     "metadata": {},
     "output_type": "display_data"
    },
    {
     "name": "stdout",
     "output_type": "stream",
     "text": [
      "__________________________________________________________________________________________________________________________________\n"
     ]
    },
    {
     "data": {
      "text/html": [
       "<text style=color:black>they performed congruent with operations.. no misleading on delivery because everyone is in agreement. same answer across all departments.. reduce/eliminate disconnected departments working streamlined toward the same (ah-ha) objective. <text style=color:#4363d8>customer</text></text>"
      ],
      "text/plain": [
       "<IPython.core.display.HTML object>"
      ]
     },
     "metadata": {},
     "output_type": "display_data"
    },
    {
     "data": {
      "text/html": [
       "<text style=color:black><text style=color:#4363d8>experience,</text> <text style=color:#4363d8><text style=color:#4363d8>customer-focused,</text></text> from the inside -(the company) out </text>"
      ],
      "text/plain": [
       "<IPython.core.display.HTML object>"
      ]
     },
     "metadata": {},
     "output_type": "display_data"
    },
    {
     "name": "stdout",
     "output_type": "stream",
     "text": [
      "__________________________________________________________________________________________________________________________________\n"
     ]
    },
    {
     "data": {
      "text/html": [
       "<text style=color:black>we had another fantastic year, because our <text style=color:#4363d8>customers</text> saw an roi of (fill in the blank). next year we intend to expand into abc industry.</text>"
      ],
      "text/plain": [
       "<IPython.core.display.HTML object>"
      ]
     },
     "metadata": {},
     "output_type": "display_data"
    },
    {
     "name": "stdout",
     "output_type": "stream",
     "text": [
      "__________________________________________________________________________________________________________________________________\n"
     ]
    },
    {
     "data": {
      "text/html": [
       "<text style=color:black>they would articulate what they have done from an <text style=color:#4363d8><text style=color:#4363d8>enablement</text></text> <text style=color:#4363d8>program</text> standpoint <text style=color:#4363d8><text style=color:#4363d8>(enablement</text></text> is never one event and done) and what was the <text style=color:#4363d8>impact</text> they had on the business. measurement</text>"
      ],
      "text/plain": [
       "<IPython.core.display.HTML object>"
      ]
     },
     "metadata": {},
     "output_type": "display_data"
    },
    {
     "data": {
      "text/html": [
       "<text style=color:black>of success is important and should <text style=color:#4363d8>tie</text> back to metrics that were agreed upon prior to the <text style=color:#4363d8><text style=color:#4363d8>enablement</text></text> exercise. leaning from those, creating a plan that extends the <text style=color:#4363d8><text style=color:#4363d8>enablement</text></text> and</text>"
      ],
      "text/plain": [
       "<IPython.core.display.HTML object>"
      ]
     },
     "metadata": {},
     "output_type": "display_data"
    },
    {
     "data": {
      "text/html": [
       "<text style=color:black>double down on what is proven to work. </text>"
      ],
      "text/plain": [
       "<IPython.core.display.HTML object>"
      ]
     },
     "metadata": {},
     "output_type": "display_data"
    },
    {
     "name": "stdout",
     "output_type": "stream",
     "text": [
      "__________________________________________________________________________________________________________________________________\n"
     ]
    },
    {
     "data": {
      "text/html": [
       "<text style=color:black>letter to <text style=color:#4363d8>shareholders</text> would <text style=color:#4363d8>focus</text> on the advances we have made regarding awareness and \"how se can assist\" a bottom line. the letter would also highlight the challenges facing the</text>"
      ],
      "text/plain": [
       "<IPython.core.display.HTML object>"
      ]
     },
     "metadata": {},
     "output_type": "display_data"
    },
    {
     "data": {
      "text/html": [
       "<text style=color:black>industry. </text>"
      ],
      "text/plain": [
       "<IPython.core.display.HTML object>"
      ]
     },
     "metadata": {},
     "output_type": "display_data"
    },
    {
     "name": "stdout",
     "output_type": "stream",
     "text": [
      "__________________________________________________________________________________________________________________________________\n",
      "Topic-3 : topic-3\n",
      "['sale', 'result', 'metric', 'need', 'help', 'challenge', 'success', 'plan', 'value', 'change', 'thing', 'market', 'improve', 'seller', 'technology', 'strategy', 'use', 'create', 'way', 'kpis']\n"
     ]
    },
    {
     "data": {
      "text/html": [
       "<text style=color:black>in the past year our department <text style=color:#f58231>helped</text> the organization radically transform the message our <text style=color:#f58231>sellers</text> carry out to buyers showing how our services best <text style=color:#f58231>help</text> customers overcome their <text style=color:#f58231>challenges</text> and</text>"
      ],
      "text/plain": [
       "<IPython.core.display.HTML object>"
      ]
     },
     "metadata": {},
     "output_type": "display_data"
    },
    {
     "data": {
      "text/html": [
       "<text style=color:black>meet their business <text style=color:#f58231>plans.</text> in the coming year we will significantly increase the effectiveness of the majority of our <text style=color:#f58231>sellers.</text></text>"
      ],
      "text/plain": [
       "<IPython.core.display.HTML object>"
      ]
     },
     "metadata": {},
     "output_type": "display_data"
    },
    {
     "name": "stdout",
     "output_type": "stream",
     "text": [
      "__________________________________________________________________________________________________________________________________\n"
     ]
    },
    {
     "data": {
      "text/html": [
       "<text style=color:black>we analyzed a (details) and uncovered b (details). based on that root <text style=color:#f58231>cause</text> analysis, we did c (details) with the intent of producing d (details). [insert details about <text style=color:#f58231>challenges</text> along</text>"
      ],
      "text/plain": [
       "<IPython.core.display.HTML object>"
      ]
     },
     "metadata": {},
     "output_type": "display_data"
    },
    {
     "data": {
      "text/html": [
       "<text style=color:black>the <text style=color:#f58231>way</text> or pivots]. by [date] we delivered e <text style=color:#f58231>results</text> (details), which weighed against f expenses (detailed), produced a return of g (details of % and $). next year, <text style=color:#f58231>because</text></text>"
      ],
      "text/plain": [
       "<IPython.core.display.HTML object>"
      ]
     },
     "metadata": {},
     "output_type": "display_data"
    },
    {
     "data": {
      "text/html": [
       "<text style=color:black>of analysis h (details), from which we learned i (details), we <text style=color:#f58231>plan</text> to invest [$] to do j (details), with the intent of producing k (details).  </text>"
      ],
      "text/plain": [
       "<IPython.core.display.HTML object>"
      ]
     },
     "metadata": {},
     "output_type": "display_data"
    },
    {
     "name": "stdout",
     "output_type": "stream",
     "text": [
      "__________________________________________________________________________________________________________________________________\n"
     ]
    },
    {
     "data": {
      "text/html": [
       "<text style=color:black>big question for a survey. briefly, my attributable output <text style=color:#f58231>metrics</text> this year are are x, t and z.\n",
       "i will stop, start and continue a, b and c next year using</text>"
      ],
      "text/plain": [
       "<IPython.core.display.HTML object>"
      ]
     },
     "metadata": {},
     "output_type": "display_data"
    },
    {
     "data": {
      "text/html": [
       "<text style=color:black>these new <text style=color:#f58231>metrics</text> d, e, f.\n",
       "\n",
       "however, there <text style=color:#f58231>needs</text> to be a 3 year <text style=color:#f58231>plan</text> as well.so, iâ€™d add a <text style=color:#f58231>strategy</text> strand as well.</text>"
      ],
      "text/plain": [
       "<IPython.core.display.HTML object>"
      ]
     },
     "metadata": {},
     "output_type": "display_data"
    },
    {
     "name": "stdout",
     "output_type": "stream",
     "text": [
      "__________________________________________________________________________________________________________________________________\n"
     ]
    },
    {
     "data": {
      "text/html": [
       "<text style=color:black>the letter would be all about <text style=color:#f58231>value</text> - it would be about how the system <text style=color:#f58231>helped</text> people to do more and gain more, and that over time <text style=color:#f58231>sales</text> enablement will</text>"
      ],
      "text/plain": [
       "<IPython.core.display.HTML object>"
      ]
     },
     "metadata": {},
     "output_type": "display_data"
    },
    {
     "data": {
      "text/html": [
       "<text style=color:black>develop into a more and more central system for how teams communicate, learn and engage.</text>"
      ],
      "text/plain": [
       "<IPython.core.display.HTML object>"
      ]
     },
     "metadata": {},
     "output_type": "display_data"
    },
    {
     "name": "stdout",
     "output_type": "stream",
     "text": [
      "__________________________________________________________________________________________________________________________________\n"
     ]
    },
    {
     "data": {
      "text/html": [
       "<text style=color:black>???---short on time. probably <text style=color:#f58231>something</text> along of the lines of \"we accomplished some big <text style=color:#f58231>things,</text> a lot in progress, and a long <text style=color:#f58231>ways</text> to go.\"</text>"
      ],
      "text/plain": [
       "<IPython.core.display.HTML object>"
      ]
     },
     "metadata": {},
     "output_type": "display_data"
    },
    {
     "name": "stdout",
     "output_type": "stream",
     "text": [
      "__________________________________________________________________________________________________________________________________\n"
     ]
    },
    {
     "data": {
      "text/html": [
       "<text style=color:black><text style=color:#f58231>success</text> at making sense of complex and changing customer landscape through skills development, <text style=color:#f58231>technology</text> aids, and customer targets and analytics</text>"
      ],
      "text/plain": [
       "<IPython.core.display.HTML object>"
      ]
     },
     "metadata": {},
     "output_type": "display_data"
    },
    {
     "name": "stdout",
     "output_type": "stream",
     "text": [
      "__________________________________________________________________________________________________________________________________\n"
     ]
    },
    {
     "data": {
      "text/html": [
       "<text style=color:black>significant <text style=color:#f58231>success</text> in the past year guiding the <text style=color:#f58231>seller</text> community as the company evolves at the speed of digital business, though we tried to <text style=color:#f58231>change</text> too much too quickly. <text style=color:#f58231>need</text></text>"
      ],
      "text/plain": [
       "<IPython.core.display.HTML object>"
      ]
     },
     "metadata": {},
     "output_type": "display_data"
    },
    {
     "data": {
      "text/html": [
       "<text style=color:black>to narrow focus on core strengths in coming year, especially with the post-pandemic economy. opportunity to capture significant <text style=color:#f58231>market</text> share. but our <text style=color:#f58231>sellers</text> are not currently prepared to navigate the</text>"
      ],
      "text/plain": [
       "<IPython.core.display.HTML object>"
      ]
     },
     "metadata": {},
     "output_type": "display_data"
    },
    {
     "data": {
      "text/html": [
       "<text style=color:black>new <text style=color:#f58231>market</text> economy.</text>"
      ],
      "text/plain": [
       "<IPython.core.display.HTML object>"
      ]
     },
     "metadata": {},
     "output_type": "display_data"
    },
    {
     "name": "stdout",
     "output_type": "stream",
     "text": [
      "__________________________________________________________________________________________________________________________________\n"
     ]
    },
    {
     "data": {
      "text/html": [
       "<text style=color:black>with a tam of roughly $50tn we believe there is no bigger opportunity than improving <text style=color:#f58231>sales</text> in every organization everywhere.</text>"
      ],
      "text/plain": [
       "<IPython.core.display.HTML object>"
      ]
     },
     "metadata": {},
     "output_type": "display_data"
    },
    {
     "name": "stdout",
     "output_type": "stream",
     "text": [
      "__________________________________________________________________________________________________________________________________\n"
     ]
    }
   ],
   "source": [
    "topN_docs = 8\n",
    "sentence_chunk_size = 30\n",
    "num_kw_print = 20\n",
    "\n",
    "top_topics_df = get_topN_topics( topic_df=df_dominant_topic, topN=topN_docs, verbose=verbose )\n",
    "\n",
    "#nice_print_doc_topics( data=top_topics_df, col_main=col_main )\n",
    "nice_print_doc_topics_colored( data=top_topics_df, col_main=col_main, use_topic_name=True, \n",
    "                               sentence_chunk_size=sentence_chunk_size, num_kw_print=num_kw_print )"
   ]
  },
  {
   "cell_type": "code",
   "execution_count": 25,
   "metadata": {},
   "outputs": [
    {
     "ename": "SyntaxError",
     "evalue": "invalid syntax (<ipython-input-25-04c612f69632>, line 1)",
     "output_type": "error",
     "traceback": [
      "\u001b[1;36m  File \u001b[1;32m\"<ipython-input-25-04c612f69632>\"\u001b[1;36m, line \u001b[1;32m1\u001b[0m\n\u001b[1;33m    0: 'marketing_reps/venture_capitalists/outcomes_and_efficiency',\u001b[0m\n\u001b[1;37m                                                                   ^\u001b[0m\n\u001b[1;31mSyntaxError\u001b[0m\u001b[1;31m:\u001b[0m invalid syntax\n"
     ]
    }
   ],
   "source": [
    "0: 'marketing_reps/venture_capitalists/outcomes_and_efficiency',\n",
    "1: 'high_qulatiy_growth_returns',\n",
    "2: 'top_company_leaders/productivity_revenue'"
   ]
  },
  {
   "cell_type": "code",
   "execution_count": null,
   "metadata": {},
   "outputs": [],
   "source": []
  }
 ],
 "metadata": {
  "kernelspec": {
   "display_name": "Python 3",
   "language": "python",
   "name": "python3"
  },
  "language_info": {
   "codemirror_mode": {
    "name": "ipython",
    "version": 3
   },
   "file_extension": ".py",
   "mimetype": "text/x-python",
   "name": "python",
   "nbconvert_exporter": "python",
   "pygments_lexer": "ipython3",
   "version": "3.7.7"
  },
  "toc": {
   "base_numbering": 1,
   "nav_menu": {},
   "number_sections": true,
   "sideBar": true,
   "skip_h1_title": false,
   "title_cell": "Table of Contents",
   "title_sidebar": "Contents",
   "toc_cell": false,
   "toc_position": {},
   "toc_section_display": true,
   "toc_window_display": false
  }
 },
 "nbformat": 4,
 "nbformat_minor": 4
}
